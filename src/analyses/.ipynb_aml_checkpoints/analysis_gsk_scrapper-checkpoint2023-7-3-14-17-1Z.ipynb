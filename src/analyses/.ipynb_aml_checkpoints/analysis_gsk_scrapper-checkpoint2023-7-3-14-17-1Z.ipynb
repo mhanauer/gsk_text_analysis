{
  "cells": [
    {
      "cell_type": "code",
      "source": [
        "%load_ext lab_black"
      ],
      "outputs": [],
      "execution_count": 1,
      "metadata": {}
    },
    {
      "cell_type": "markdown",
      "source": [
        "Step: Load data"
      ],
      "metadata": {
        "nteract": {
          "transient": {
            "deleting": false
          }
        }
      }
    },
    {
      "cell_type": "code",
      "source": [
        "import pandas as pd\n",
        "import os\n",
        "import numpy as np\n",
        "import nltk\n",
        "from pyprojroot import here\n",
        "\n",
        "from skimpy import clean_columns\n",
        "from data_cleaning.fun_hot_encode_limit import fun_hot_encode_limit\n",
        "\n",
        "path_data = here(\"./data\")\n",
        "os.chdir(path_data)\n",
        "data_ra = pd.read_csv(\"ra_data.csv\")\n",
        "data_ra = clean_columns(data_ra)\n",
        "\n",
        "nltk.download(\"vader_lexicon\")\n",
        "data_ra[\"date\"] = pd.to_datetime(data_ra[\"date\"])"
      ],
      "outputs": [
        {
          "output_type": "display_data",
          "data": {
            "text/plain": "\u001b[1;36m11\u001b[0m column names have been cleaned\n",
            "text/html": "<pre style=\"white-space:pre;overflow-x:auto;line-height:normal;font-family:Menlo,'DejaVu Sans Mono',consolas,'Courier New',monospace\"><span style=\"color: #008080; text-decoration-color: #008080; font-weight: bold\">11</span> column names have been cleaned\n</pre>\n"
          },
          "metadata": {}
        },
        {
          "output_type": "stream",
          "name": "stderr",
          "text": "[nltk_data] Downloading package vader_lexicon to\n[nltk_data]     /home/azureuser/nltk_data...\n[nltk_data]   Package vader_lexicon is already up-to-date!\n/tmp/ipykernel_6498/814015519.py:16: UserWarning: Could not infer format, so each element will be parsed individually, falling back to `dateutil`. To ensure parsing is consistent and as-expected, please specify a format.\n  data_ra[\"date\"] = pd.to_datetime(data_ra[\"date\"])\n"
        }
      ],
      "execution_count": 2,
      "metadata": {
        "jupyter": {
          "source_hidden": false,
          "outputs_hidden": false
        },
        "nteract": {
          "transient": {
            "deleting": false
          }
        },
        "gather": {
          "logged": 1691028429023
        }
      }
    },
    {
      "cell_type": "code",
      "source": [
        "import requests\n",
        "from bs4 import BeautifulSoup\n",
        "import pandas as pd\n",
        "\n",
        "\n",
        "def get_reviews(url):\n",
        "    headers = {\"User-Agent\": \"Mozilla/5.0\"}\n",
        "    response = requests.get(url, headers=headers)\n",
        "\n",
        "    soup = BeautifulSoup(response.text, \"html.parser\")\n",
        "    reviews = soup.find_all(\"div\", class_=\"description\")\n",
        "\n",
        "    reviews_list = []\n",
        "\n",
        "    for review in reviews:\n",
        "        review_dict = {}\n",
        "        visible_text = review.find(\"span\", class_=\"showSec\")\n",
        "        hidden_text = review.find(\"span\", class_=\"hiddenSec\")\n",
        "\n",
        "        # If there's visible text, add it to the review dictionary\n",
        "        if visible_text:\n",
        "            review_dict[\"text\"] = visible_text.text.strip()\n",
        "        # If there's hidden text, append it to the review dictionary\n",
        "        if hidden_text:\n",
        "            review_dict[\"text\"] += \" \" + hidden_text.text.strip()\n",
        "\n",
        "        reviews_list.append(review_dict)\n",
        "\n",
        "    return pd.DataFrame(reviews_list)\n",
        "\n",
        "\n",
        "url = \"https://reviews.webmd.com/drugs/drugreview-64713-humira-subcutaneous\"\n",
        "df = get_reviews(url)\n",
        "print(df)"
      ],
      "outputs": [
        {
          "output_type": "stream",
          "name": "stdout",
          "text": "                                                 text\n0                                                 NaN\n1   My dear old mother took Humira for her rheumat...\n2   I was at wit's end with approximately 90% or m...\n3   This drug is poison. I was on it for 2 years a...\n4                                                 NaN\n5                                                 NaN\n6                                                 NaN\n7                                                 NaN\n8                                                 NaN\n9                                                 NaN\n10  My husband had a problem in his nails and been...\n11                                                NaN\n12                                                NaN\n13                                                NaN\n14  My grandmother died from this medication. She ...\n15                                                NaN\n16  I was on methotrexate and it quit working for ...\n17                                                NaN\n18                                                NaN\n"
        }
      ],
      "execution_count": 6,
      "metadata": {
        "jupyter": {
          "source_hidden": false,
          "outputs_hidden": false
        },
        "nteract": {
          "transient": {
            "deleting": false
          }
        },
        "gather": {
          "logged": 1691029610897
        }
      }
    },
    {
      "cell_type": "code",
      "source": [
        "import requests\n",
        "from bs4 import BeautifulSoup\n",
        "import pandas as pd\n",
        "\n",
        "\n",
        "def get_reviews(base_url):\n",
        "    headers = {\"User-Agent\": \"Mozilla/5.0\"}\n",
        "\n",
        "    reviews_list = []\n",
        "\n",
        "    for page in range(1, 11):  # adjust range as necessary\n",
        "        url = f\"{base_url}?conditionid=&sortval=1&page={page}&next_page=true\"\n",
        "        response = requests.get(url, headers=headers)\n",
        "\n",
        "        soup = BeautifulSoup(response.text, \"html.parser\")\n",
        "        reviews = soup.find_all(\"div\", class_=\"description\")\n",
        "\n",
        "        for review in reviews:\n",
        "            review_dict = {}\n",
        "            visible_text = review.find(\"span\", class_=\"showSec\")\n",
        "            hidden_text = review.find(\"span\", class_=\"hiddenSec\")\n",
        "\n",
        "            # If there's visible text, add it to the review dictionary\n",
        "            if visible_text:\n",
        "                review_dict[\"text\"] = visible_text.text.strip()\n",
        "            # If there's hidden text, append it to the review dictionary\n",
        "            if hidden_text:\n",
        "                review_dict[\"text\"] += \" \" + hidden_text.text.strip()\n",
        "\n",
        "            reviews_list.append(review_dict)\n",
        "\n",
        "    return pd.DataFrame(reviews_list)\n",
        "\n",
        "\n",
        "base_url = \"https://reviews.webmd.com/drugs/drugreview-64713-humira-subcutaneous\"\n",
        "df = get_reviews(base_url)\n",
        "print(df)"
      ],
      "outputs": [
        {
          "output_type": "stream",
          "name": "stdout",
          "text": "                                                  text\n0                                                  NaN\n1    My dear old mother took Humira for her rheumat...\n2    I was at wit's end with approximately 90% or m...\n3    This drug is poison. I was on it for 2 years a...\n4                                                  NaN\n..                                                 ...\n183  Since January 2009 I am taking Humira without ...\n184  Fantastic.  I hope they don't take it away.  F...\n185                                                NaN\n186                                                NaN\n187                                                NaN\n\n[188 rows x 1 columns]\n"
        }
      ],
      "execution_count": 10,
      "metadata": {
        "jupyter": {
          "source_hidden": false,
          "outputs_hidden": false
        },
        "nteract": {
          "transient": {
            "deleting": false
          }
        },
        "gather": {
          "logged": 1691029952630
        }
      }
    },
    {
      "cell_type": "code",
      "source": [
        "pd.DataFrame(df).dropna().reset_index(drop=True)"
      ],
      "outputs": [
        {
          "output_type": "execute_result",
          "execution_count": 9,
          "data": {
            "text/plain": "                                                text\n0  My dear old mother took Humira for her rheumat...\n1  I was at wit's end with approximately 90% or m...\n2  This drug is poison. I was on it for 2 years a...\n3  My husband had a problem in his nails and been...\n4  My grandmother died from this medication. She ...\n5  I was on methotrexate and it quit working for ...",
            "text/html": "<div>\n<style scoped>\n    .dataframe tbody tr th:only-of-type {\n        vertical-align: middle;\n    }\n\n    .dataframe tbody tr th {\n        vertical-align: top;\n    }\n\n    .dataframe thead th {\n        text-align: right;\n    }\n</style>\n<table border=\"1\" class=\"dataframe\">\n  <thead>\n    <tr style=\"text-align: right;\">\n      <th></th>\n      <th>text</th>\n    </tr>\n  </thead>\n  <tbody>\n    <tr>\n      <th>0</th>\n      <td>My dear old mother took Humira for her rheumat...</td>\n    </tr>\n    <tr>\n      <th>1</th>\n      <td>I was at wit's end with approximately 90% or m...</td>\n    </tr>\n    <tr>\n      <th>2</th>\n      <td>This drug is poison. I was on it for 2 years a...</td>\n    </tr>\n    <tr>\n      <th>3</th>\n      <td>My husband had a problem in his nails and been...</td>\n    </tr>\n    <tr>\n      <th>4</th>\n      <td>My grandmother died from this medication. She ...</td>\n    </tr>\n    <tr>\n      <th>5</th>\n      <td>I was on methotrexate and it quit working for ...</td>\n    </tr>\n  </tbody>\n</table>\n</div>"
          },
          "metadata": {}
        }
      ],
      "execution_count": 9,
      "metadata": {
        "jupyter": {
          "source_hidden": false,
          "outputs_hidden": false
        },
        "nteract": {
          "transient": {
            "deleting": false
          }
        },
        "gather": {
          "logged": 1691029663637
        }
      }
    }
  ],
  "metadata": {
    "kernelspec": {
      "name": "python38-azureml",
      "language": "python",
      "display_name": "Python 3.8 - AzureML"
    },
    "language_info": {
      "name": "python",
      "version": "3.8.5",
      "mimetype": "text/x-python",
      "codemirror_mode": {
        "name": "ipython",
        "version": 3
      },
      "pygments_lexer": "ipython3",
      "nbconvert_exporter": "python",
      "file_extension": ".py"
    },
    "microsoft": {
      "ms_spell_check": {
        "ms_spell_check_language": "en"
      },
      "host": {
        "AzureML": {
          "notebookHasBeenCompleted": true
        }
      }
    },
    "kernel_info": {
      "name": "python38-azureml"
    },
    "nteract": {
      "version": "nteract-front-end@1.0.0"
    }
  },
  "nbformat": 4,
  "nbformat_minor": 2
}