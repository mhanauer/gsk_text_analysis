{
  "cells": [
    {
      "cell_type": "code",
      "source": [
        "%load_ext lab_black"
      ],
      "outputs": [],
      "execution_count": 1,
      "metadata": {}
    },
    {
      "cell_type": "markdown",
      "source": [
        "Step: Load data"
      ],
      "metadata": {
        "nteract": {
          "transient": {
            "deleting": false
          }
        }
      }
    },
    {
      "cell_type": "code",
      "source": [
        "import pandas as pd\n",
        "import os\n",
        "import numpy as np\n",
        "import nltk\n",
        "from pyprojroot import here\n",
        "\n",
        "from skimpy import clean_columns\n",
        "from data_cleaning.fun_hot_encode_limit import fun_hot_encode_limit\n",
        "\n",
        "path_data = here(\"./data\")\n",
        "os.chdir(path_data)\n",
        "data_ra = pd.read_csv(\"data_ra_sentiment.csv\")"
      ],
      "outputs": [],
      "execution_count": 4,
      "metadata": {
        "jupyter": {
          "source_hidden": false,
          "outputs_hidden": false
        },
        "nteract": {
          "transient": {
            "deleting": false
          }
        },
        "gather": {
          "logged": 1691079495792
        }
      }
    },
    {
      "cell_type": "code",
      "source": [
        "from transformers import pipeline\n",
        "\n",
        "# Initialize the zero-shot classification pipeline\n",
        "classifier = pipeline(\"zero-shot-classification\")\n",
        "\n",
        "# Define the candidate labels\n",
        "candidate_labels = [\"safety concerns\"]\n",
        "\n",
        "\n",
        "# Function to apply the classifier to a review\n",
        "def classify_review(review):\n",
        "    result = classifier(review, candidate_labels)\n",
        "    return dict(zip(result[\"labels\"], result[\"scores\"]))\n",
        "\n",
        "\n",
        "# Apply the classifier to each review\n",
        "data_ra[\"emotion_scores\"] = data_ra[\"reviews\"].apply(classify_review)\n",
        "\n",
        "# Create a new column for each label\n",
        "for label in candidate_labels:\n",
        "    data_ra[label] = data_ra[\"emotion_scores\"].apply(lambda scores: scores.get(label))"
      ],
      "outputs": [
        {
          "output_type": "stream",
          "name": "stderr",
          "text": "No model was supplied, defaulted to facebook/bart-large-mnli (https://huggingface.co/facebook/bart-large-mnli)\n"
        }
      ],
      "execution_count": 3,
      "metadata": {
        "jupyter": {
          "source_hidden": false,
          "outputs_hidden": false
        },
        "nteract": {
          "transient": {
            "deleting": false
          }
        },
        "gather": {
          "logged": 1691079495731
        }
      }
    },
    {
      "cell_type": "code",
      "source": [
        "data_ra"
      ],
      "outputs": [
        {
          "output_type": "execute_result",
          "execution_count": 12,
          "data": {
            "text/plain": "     Unnamed: 0         age             condition        date  \\\n0             0       45-54  Rheumatoid Arthritis  2019-05-24   \n1             1       45-54  Rheumatoid Arthritis  2019-04-11   \n2             2       55-64  Rheumatoid Arthritis  2019-02-18   \n3             3       45-54  Rheumatoid Arthritis  2018-11-06   \n4             4       65-74  Rheumatoid Arthritis  2017-11-15   \n..          ...         ...                   ...         ...   \n180         180  75 or over  Rheumatoid Arthritis  2007-11-09   \n181         181       25-34  Rheumatoid Arthritis  2007-10-23   \n182         182       45-54  Rheumatoid Arthritis  2007-10-21   \n183         183       45-54  Rheumatoid Arthritis  2007-10-11   \n184         184  75 or over  Rheumatoid Arthritis  2007-09-29   \n\n                        drug  drug_id  easeof_use  effectiveness  \\\n0         humira syringe kit    64713           1              1   \n1         humira syringe kit    64713           1              1   \n2         humira syringe kit    64713           3              3   \n3         humira syringe kit    64713           5              5   \n4    humira pen injector kit   144769           4              4   \n..                       ...      ...         ...            ...   \n180       humira syringe kit    64713           3              5   \n181       humira syringe kit    64713           4              3   \n182       humira syringe kit    64713           4              5   \n183       humira syringe kit    64713           4              4   \n184       humira syringe kit    64713           3              3   \n\n                                               reviews  satisfaction     sex  \\\n0    caused heavy legs,frequent urination, diarrea,...             1           \n1                          Medicine does not dispense.             1           \n2    I was on methotrexate and it quit working for ...             3           \n3    The cost is outrageous. With insurance and the...             1    Male   \n4    I experienced pain and stinging with the injec...             2           \n..                                                 ...           ...     ...   \n180  I have been on HUMIRA for over a year, injecte...             5    Male   \n181  I took 3 dose in three months,but insurance co...             4    Male   \n182  I developed pneumonia while on this drug--and ...             4  Female   \n183  I have been useing this for about 2 years, I d...             5    Male   \n184                             injections 2xper month             3  Female   \n\n                                                 sides  \\\n0    Redness,  itching , pain, or swelling at the i...   \n1    Redness,  itching , pain, or swelling at the i...   \n2    Redness,  itching , pain, or swelling at the i...   \n3    Redness,  itching , pain, or swelling at the i...   \n4    Redness,  itching , pain, or swelling at the i...   \n..                                                 ...   \n180  Redness,  itching , pain, or swelling at the i...   \n181  Redness,  itching , pain, or swelling at the i...   \n182  Redness,  itching , pain, or swelling at the i...   \n183  Redness,  itching , pain, or swelling at the i...   \n184  Redness,  itching , pain, or swelling at the i...   \n\n                                         reviews_clean  \n0    caused heavy leg , frequent urination , diarre...  \n1                                  medicine dispense .  \n2    methotrexate quit working . tried embrel still...  \n3    cost outrageous . insurance copay still ran 50...  \n4    experienced pain stinging injection . found pu...  \n..                                                 ...  \n180  year , injected every two week . taken combina...  \n181  took 3 dose three month , insurance co. delayi...  \n182  developed pneumonia drug -- pneumonia shot yea...  \n183  useing 2 year , feel better med told work . ``...  \n184                              injection 2xper month  \n\n[185 rows x 13 columns]",
            "text/html": "<div>\n<style scoped>\n    .dataframe tbody tr th:only-of-type {\n        vertical-align: middle;\n    }\n\n    .dataframe tbody tr th {\n        vertical-align: top;\n    }\n\n    .dataframe thead th {\n        text-align: right;\n    }\n</style>\n<table border=\"1\" class=\"dataframe\">\n  <thead>\n    <tr style=\"text-align: right;\">\n      <th></th>\n      <th>Unnamed: 0</th>\n      <th>age</th>\n      <th>condition</th>\n      <th>date</th>\n      <th>drug</th>\n      <th>drug_id</th>\n      <th>easeof_use</th>\n      <th>effectiveness</th>\n      <th>reviews</th>\n      <th>satisfaction</th>\n      <th>sex</th>\n      <th>sides</th>\n      <th>reviews_clean</th>\n    </tr>\n  </thead>\n  <tbody>\n    <tr>\n      <th>0</th>\n      <td>0</td>\n      <td>45-54</td>\n      <td>Rheumatoid Arthritis</td>\n      <td>2019-05-24</td>\n      <td>humira syringe kit</td>\n      <td>64713</td>\n      <td>1</td>\n      <td>1</td>\n      <td>caused heavy legs,frequent urination, diarrea,...</td>\n      <td>1</td>\n      <td></td>\n      <td>Redness,  itching , pain, or swelling at the i...</td>\n      <td>caused heavy leg , frequent urination , diarre...</td>\n    </tr>\n    <tr>\n      <th>1</th>\n      <td>1</td>\n      <td>45-54</td>\n      <td>Rheumatoid Arthritis</td>\n      <td>2019-04-11</td>\n      <td>humira syringe kit</td>\n      <td>64713</td>\n      <td>1</td>\n      <td>1</td>\n      <td>Medicine does not dispense.</td>\n      <td>1</td>\n      <td></td>\n      <td>Redness,  itching , pain, or swelling at the i...</td>\n      <td>medicine dispense .</td>\n    </tr>\n    <tr>\n      <th>2</th>\n      <td>2</td>\n      <td>55-64</td>\n      <td>Rheumatoid Arthritis</td>\n      <td>2019-02-18</td>\n      <td>humira syringe kit</td>\n      <td>64713</td>\n      <td>3</td>\n      <td>3</td>\n      <td>I was on methotrexate and it quit working for ...</td>\n      <td>3</td>\n      <td></td>\n      <td>Redness,  itching , pain, or swelling at the i...</td>\n      <td>methotrexate quit working . tried embrel still...</td>\n    </tr>\n    <tr>\n      <th>3</th>\n      <td>3</td>\n      <td>45-54</td>\n      <td>Rheumatoid Arthritis</td>\n      <td>2018-11-06</td>\n      <td>humira syringe kit</td>\n      <td>64713</td>\n      <td>5</td>\n      <td>5</td>\n      <td>The cost is outrageous. With insurance and the...</td>\n      <td>1</td>\n      <td>Male</td>\n      <td>Redness,  itching , pain, or swelling at the i...</td>\n      <td>cost outrageous . insurance copay still ran 50...</td>\n    </tr>\n    <tr>\n      <th>4</th>\n      <td>4</td>\n      <td>65-74</td>\n      <td>Rheumatoid Arthritis</td>\n      <td>2017-11-15</td>\n      <td>humira pen injector kit</td>\n      <td>144769</td>\n      <td>4</td>\n      <td>4</td>\n      <td>I experienced pain and stinging with the injec...</td>\n      <td>2</td>\n      <td></td>\n      <td>Redness,  itching , pain, or swelling at the i...</td>\n      <td>experienced pain stinging injection . found pu...</td>\n    </tr>\n    <tr>\n      <th>...</th>\n      <td>...</td>\n      <td>...</td>\n      <td>...</td>\n      <td>...</td>\n      <td>...</td>\n      <td>...</td>\n      <td>...</td>\n      <td>...</td>\n      <td>...</td>\n      <td>...</td>\n      <td>...</td>\n      <td>...</td>\n      <td>...</td>\n    </tr>\n    <tr>\n      <th>180</th>\n      <td>180</td>\n      <td>75 or over</td>\n      <td>Rheumatoid Arthritis</td>\n      <td>2007-11-09</td>\n      <td>humira syringe kit</td>\n      <td>64713</td>\n      <td>3</td>\n      <td>5</td>\n      <td>I have been on HUMIRA for over a year, injecte...</td>\n      <td>5</td>\n      <td>Male</td>\n      <td>Redness,  itching , pain, or swelling at the i...</td>\n      <td>year , injected every two week . taken combina...</td>\n    </tr>\n    <tr>\n      <th>181</th>\n      <td>181</td>\n      <td>25-34</td>\n      <td>Rheumatoid Arthritis</td>\n      <td>2007-10-23</td>\n      <td>humira syringe kit</td>\n      <td>64713</td>\n      <td>4</td>\n      <td>3</td>\n      <td>I took 3 dose in three months,but insurance co...</td>\n      <td>4</td>\n      <td>Male</td>\n      <td>Redness,  itching , pain, or swelling at the i...</td>\n      <td>took 3 dose three month , insurance co. delayi...</td>\n    </tr>\n    <tr>\n      <th>182</th>\n      <td>182</td>\n      <td>45-54</td>\n      <td>Rheumatoid Arthritis</td>\n      <td>2007-10-21</td>\n      <td>humira syringe kit</td>\n      <td>64713</td>\n      <td>4</td>\n      <td>5</td>\n      <td>I developed pneumonia while on this drug--and ...</td>\n      <td>4</td>\n      <td>Female</td>\n      <td>Redness,  itching , pain, or swelling at the i...</td>\n      <td>developed pneumonia drug -- pneumonia shot yea...</td>\n    </tr>\n    <tr>\n      <th>183</th>\n      <td>183</td>\n      <td>45-54</td>\n      <td>Rheumatoid Arthritis</td>\n      <td>2007-10-11</td>\n      <td>humira syringe kit</td>\n      <td>64713</td>\n      <td>4</td>\n      <td>4</td>\n      <td>I have been useing this for about 2 years, I d...</td>\n      <td>5</td>\n      <td>Male</td>\n      <td>Redness,  itching , pain, or swelling at the i...</td>\n      <td>useing 2 year , feel better med told work . ``...</td>\n    </tr>\n    <tr>\n      <th>184</th>\n      <td>184</td>\n      <td>75 or over</td>\n      <td>Rheumatoid Arthritis</td>\n      <td>2007-09-29</td>\n      <td>humira syringe kit</td>\n      <td>64713</td>\n      <td>3</td>\n      <td>3</td>\n      <td>injections 2xper month</td>\n      <td>3</td>\n      <td>Female</td>\n      <td>Redness,  itching , pain, or swelling at the i...</td>\n      <td>injection 2xper month</td>\n    </tr>\n  </tbody>\n</table>\n<p>185 rows × 13 columns</p>\n</div>"
          },
          "metadata": {}
        }
      ],
      "execution_count": 12,
      "metadata": {
        "jupyter": {
          "source_hidden": false,
          "outputs_hidden": false
        },
        "nteract": {
          "transient": {
            "deleting": false
          }
        },
        "gather": {
          "logged": 1691079541755
        }
      }
    },
    {
      "cell_type": "code",
      "source": [
        "data_ra_sentiment = clean_columns(data_ra)"
      ],
      "outputs": [
        {
          "output_type": "display_data",
          "data": {
            "text/plain": "\u001b[1;36m1\u001b[0m column names have been cleaned\n",
            "text/html": "<pre style=\"white-space:pre;overflow-x:auto;line-height:normal;font-family:Menlo,'DejaVu Sans Mono',consolas,'Courier New',monospace\"><span style=\"color: #008080; text-decoration-color: #008080; font-weight: bold\">1</span> column names have been cleaned\n</pre>\n"
          },
          "metadata": {}
        }
      ],
      "execution_count": 7,
      "metadata": {
        "jupyter": {
          "source_hidden": false,
          "outputs_hidden": false
        },
        "nteract": {
          "transient": {
            "deleting": false
          }
        },
        "gather": {
          "logged": 1691079506710
        }
      }
    },
    {
      "cell_type": "code",
      "source": [
        "topic = \"saftey_concerns\""
      ],
      "outputs": [],
      "execution_count": 9,
      "metadata": {
        "jupyter": {
          "source_hidden": false,
          "outputs_hidden": false
        },
        "nteract": {
          "transient": {
            "deleting": false
          }
        },
        "gather": {
          "logged": 1691079525148
        }
      }
    },
    {
      "cell_type": "code",
      "source": [
        "data_ra_sentiment"
      ],
      "outputs": [
        {
          "output_type": "execute_result",
          "execution_count": 11,
          "data": {
            "text/plain": "     unnamed_0         age             condition        date  \\\n0            0       45-54  Rheumatoid Arthritis  2019-05-24   \n1            1       45-54  Rheumatoid Arthritis  2019-04-11   \n2            2       55-64  Rheumatoid Arthritis  2019-02-18   \n3            3       45-54  Rheumatoid Arthritis  2018-11-06   \n4            4       65-74  Rheumatoid Arthritis  2017-11-15   \n..         ...         ...                   ...         ...   \n180        180  75 or over  Rheumatoid Arthritis  2007-11-09   \n181        181       25-34  Rheumatoid Arthritis  2007-10-23   \n182        182       45-54  Rheumatoid Arthritis  2007-10-21   \n183        183       45-54  Rheumatoid Arthritis  2007-10-11   \n184        184  75 or over  Rheumatoid Arthritis  2007-09-29   \n\n                        drug  drug_id  easeof_use  effectiveness  \\\n0         humira syringe kit    64713           1              1   \n1         humira syringe kit    64713           1              1   \n2         humira syringe kit    64713           3              3   \n3         humira syringe kit    64713           5              5   \n4    humira pen injector kit   144769           4              4   \n..                       ...      ...         ...            ...   \n180       humira syringe kit    64713           3              5   \n181       humira syringe kit    64713           4              3   \n182       humira syringe kit    64713           4              5   \n183       humira syringe kit    64713           4              4   \n184       humira syringe kit    64713           3              3   \n\n                                               reviews  satisfaction     sex  \\\n0    caused heavy legs,frequent urination, diarrea,...             1           \n1                          Medicine does not dispense.             1           \n2    I was on methotrexate and it quit working for ...             3           \n3    The cost is outrageous. With insurance and the...             1    Male   \n4    I experienced pain and stinging with the injec...             2           \n..                                                 ...           ...     ...   \n180  I have been on HUMIRA for over a year, injecte...             5    Male   \n181  I took 3 dose in three months,but insurance co...             4    Male   \n182  I developed pneumonia while on this drug--and ...             4  Female   \n183  I have been useing this for about 2 years, I d...             5    Male   \n184                             injections 2xper month             3  Female   \n\n                                                 sides  \\\n0    Redness,  itching , pain, or swelling at the i...   \n1    Redness,  itching , pain, or swelling at the i...   \n2    Redness,  itching , pain, or swelling at the i...   \n3    Redness,  itching , pain, or swelling at the i...   \n4    Redness,  itching , pain, or swelling at the i...   \n..                                                 ...   \n180  Redness,  itching , pain, or swelling at the i...   \n181  Redness,  itching , pain, or swelling at the i...   \n182  Redness,  itching , pain, or swelling at the i...   \n183  Redness,  itching , pain, or swelling at the i...   \n184  Redness,  itching , pain, or swelling at the i...   \n\n                                         reviews_clean  \n0    caused heavy leg , frequent urination , diarre...  \n1                                  medicine dispense .  \n2    methotrexate quit working . tried embrel still...  \n3    cost outrageous . insurance copay still ran 50...  \n4    experienced pain stinging injection . found pu...  \n..                                                 ...  \n180  year , injected every two week . taken combina...  \n181  took 3 dose three month , insurance co. delayi...  \n182  developed pneumonia drug -- pneumonia shot yea...  \n183  useing 2 year , feel better med told work . ``...  \n184                              injection 2xper month  \n\n[185 rows x 13 columns]",
            "text/html": "<div>\n<style scoped>\n    .dataframe tbody tr th:only-of-type {\n        vertical-align: middle;\n    }\n\n    .dataframe tbody tr th {\n        vertical-align: top;\n    }\n\n    .dataframe thead th {\n        text-align: right;\n    }\n</style>\n<table border=\"1\" class=\"dataframe\">\n  <thead>\n    <tr style=\"text-align: right;\">\n      <th></th>\n      <th>unnamed_0</th>\n      <th>age</th>\n      <th>condition</th>\n      <th>date</th>\n      <th>drug</th>\n      <th>drug_id</th>\n      <th>easeof_use</th>\n      <th>effectiveness</th>\n      <th>reviews</th>\n      <th>satisfaction</th>\n      <th>sex</th>\n      <th>sides</th>\n      <th>reviews_clean</th>\n    </tr>\n  </thead>\n  <tbody>\n    <tr>\n      <th>0</th>\n      <td>0</td>\n      <td>45-54</td>\n      <td>Rheumatoid Arthritis</td>\n      <td>2019-05-24</td>\n      <td>humira syringe kit</td>\n      <td>64713</td>\n      <td>1</td>\n      <td>1</td>\n      <td>caused heavy legs,frequent urination, diarrea,...</td>\n      <td>1</td>\n      <td></td>\n      <td>Redness,  itching , pain, or swelling at the i...</td>\n      <td>caused heavy leg , frequent urination , diarre...</td>\n    </tr>\n    <tr>\n      <th>1</th>\n      <td>1</td>\n      <td>45-54</td>\n      <td>Rheumatoid Arthritis</td>\n      <td>2019-04-11</td>\n      <td>humira syringe kit</td>\n      <td>64713</td>\n      <td>1</td>\n      <td>1</td>\n      <td>Medicine does not dispense.</td>\n      <td>1</td>\n      <td></td>\n      <td>Redness,  itching , pain, or swelling at the i...</td>\n      <td>medicine dispense .</td>\n    </tr>\n    <tr>\n      <th>2</th>\n      <td>2</td>\n      <td>55-64</td>\n      <td>Rheumatoid Arthritis</td>\n      <td>2019-02-18</td>\n      <td>humira syringe kit</td>\n      <td>64713</td>\n      <td>3</td>\n      <td>3</td>\n      <td>I was on methotrexate and it quit working for ...</td>\n      <td>3</td>\n      <td></td>\n      <td>Redness,  itching , pain, or swelling at the i...</td>\n      <td>methotrexate quit working . tried embrel still...</td>\n    </tr>\n    <tr>\n      <th>3</th>\n      <td>3</td>\n      <td>45-54</td>\n      <td>Rheumatoid Arthritis</td>\n      <td>2018-11-06</td>\n      <td>humira syringe kit</td>\n      <td>64713</td>\n      <td>5</td>\n      <td>5</td>\n      <td>The cost is outrageous. With insurance and the...</td>\n      <td>1</td>\n      <td>Male</td>\n      <td>Redness,  itching , pain, or swelling at the i...</td>\n      <td>cost outrageous . insurance copay still ran 50...</td>\n    </tr>\n    <tr>\n      <th>4</th>\n      <td>4</td>\n      <td>65-74</td>\n      <td>Rheumatoid Arthritis</td>\n      <td>2017-11-15</td>\n      <td>humira pen injector kit</td>\n      <td>144769</td>\n      <td>4</td>\n      <td>4</td>\n      <td>I experienced pain and stinging with the injec...</td>\n      <td>2</td>\n      <td></td>\n      <td>Redness,  itching , pain, or swelling at the i...</td>\n      <td>experienced pain stinging injection . found pu...</td>\n    </tr>\n    <tr>\n      <th>...</th>\n      <td>...</td>\n      <td>...</td>\n      <td>...</td>\n      <td>...</td>\n      <td>...</td>\n      <td>...</td>\n      <td>...</td>\n      <td>...</td>\n      <td>...</td>\n      <td>...</td>\n      <td>...</td>\n      <td>...</td>\n      <td>...</td>\n    </tr>\n    <tr>\n      <th>180</th>\n      <td>180</td>\n      <td>75 or over</td>\n      <td>Rheumatoid Arthritis</td>\n      <td>2007-11-09</td>\n      <td>humira syringe kit</td>\n      <td>64713</td>\n      <td>3</td>\n      <td>5</td>\n      <td>I have been on HUMIRA for over a year, injecte...</td>\n      <td>5</td>\n      <td>Male</td>\n      <td>Redness,  itching , pain, or swelling at the i...</td>\n      <td>year , injected every two week . taken combina...</td>\n    </tr>\n    <tr>\n      <th>181</th>\n      <td>181</td>\n      <td>25-34</td>\n      <td>Rheumatoid Arthritis</td>\n      <td>2007-10-23</td>\n      <td>humira syringe kit</td>\n      <td>64713</td>\n      <td>4</td>\n      <td>3</td>\n      <td>I took 3 dose in three months,but insurance co...</td>\n      <td>4</td>\n      <td>Male</td>\n      <td>Redness,  itching , pain, or swelling at the i...</td>\n      <td>took 3 dose three month , insurance co. delayi...</td>\n    </tr>\n    <tr>\n      <th>182</th>\n      <td>182</td>\n      <td>45-54</td>\n      <td>Rheumatoid Arthritis</td>\n      <td>2007-10-21</td>\n      <td>humira syringe kit</td>\n      <td>64713</td>\n      <td>4</td>\n      <td>5</td>\n      <td>I developed pneumonia while on this drug--and ...</td>\n      <td>4</td>\n      <td>Female</td>\n      <td>Redness,  itching , pain, or swelling at the i...</td>\n      <td>developed pneumonia drug -- pneumonia shot yea...</td>\n    </tr>\n    <tr>\n      <th>183</th>\n      <td>183</td>\n      <td>45-54</td>\n      <td>Rheumatoid Arthritis</td>\n      <td>2007-10-11</td>\n      <td>humira syringe kit</td>\n      <td>64713</td>\n      <td>4</td>\n      <td>4</td>\n      <td>I have been useing this for about 2 years, I d...</td>\n      <td>5</td>\n      <td>Male</td>\n      <td>Redness,  itching , pain, or swelling at the i...</td>\n      <td>useing 2 year , feel better med told work . ``...</td>\n    </tr>\n    <tr>\n      <th>184</th>\n      <td>184</td>\n      <td>75 or over</td>\n      <td>Rheumatoid Arthritis</td>\n      <td>2007-09-29</td>\n      <td>humira syringe kit</td>\n      <td>64713</td>\n      <td>3</td>\n      <td>3</td>\n      <td>injections 2xper month</td>\n      <td>3</td>\n      <td>Female</td>\n      <td>Redness,  itching , pain, or swelling at the i...</td>\n      <td>injection 2xper month</td>\n    </tr>\n  </tbody>\n</table>\n<p>185 rows × 13 columns</p>\n</div>"
          },
          "metadata": {}
        }
      ],
      "execution_count": 11,
      "metadata": {
        "jupyter": {
          "source_hidden": false,
          "outputs_hidden": false
        },
        "nteract": {
          "transient": {
            "deleting": false
          }
        },
        "gather": {
          "logged": 1691079530940
        }
      }
    },
    {
      "cell_type": "code",
      "source": [
        "data_ra_sentiment.query(\"@topic >= .75\")"
      ],
      "outputs": [
        {
          "output_type": "error",
          "ename": "TypeError",
          "evalue": "data type 'saftey_concerns' not understood",
          "traceback": [
            "\u001b[0;31m---------------------------------------------------------------------------\u001b[0m",
            "\u001b[0;31mTypeError\u001b[0m                                 Traceback (most recent call last)",
            "File \u001b[0;32m/anaconda/envs/azureml_py38/lib/python3.8/site-packages/pandas/core/computation/common.py:25\u001b[0m, in \u001b[0;36mresult_type_many\u001b[0;34m(*arrays_and_dtypes)\u001b[0m\n\u001b[1;32m     24\u001b[0m \u001b[38;5;28;01mtry\u001b[39;00m:\n\u001b[0;32m---> 25\u001b[0m     \u001b[38;5;28;01mreturn\u001b[39;00m \u001b[43mnp\u001b[49m\u001b[38;5;241;43m.\u001b[39;49m\u001b[43mresult_type\u001b[49m\u001b[43m(\u001b[49m\u001b[38;5;241;43m*\u001b[39;49m\u001b[43marrays_and_dtypes\u001b[49m\u001b[43m)\u001b[49m\n\u001b[1;32m     26\u001b[0m \u001b[38;5;28;01mexcept\u001b[39;00m \u001b[38;5;167;01mValueError\u001b[39;00m:\n\u001b[1;32m     27\u001b[0m     \u001b[38;5;66;03m# we have > NPY_MAXARGS terms in our expression\u001b[39;00m\n",
            "File \u001b[0;32m<__array_function__ internals>:180\u001b[0m, in \u001b[0;36mresult_type\u001b[0;34m(*args, **kwargs)\u001b[0m\n",
            "\u001b[0;31mTypeError\u001b[0m: data type 'saftey_concerns' not understood",
            "\nDuring handling of the above exception, another exception occurred:\n",
            "\u001b[0;31mTypeError\u001b[0m                                 Traceback (most recent call last)",
            "Cell \u001b[0;32mIn[10], line 1\u001b[0m\n\u001b[0;32m----> 1\u001b[0m \u001b[43mdata_ra_sentiment\u001b[49m\u001b[38;5;241;43m.\u001b[39;49m\u001b[43mquery\u001b[49m\u001b[43m(\u001b[49m\u001b[38;5;124;43m\"\u001b[39;49m\u001b[38;5;124;43m@topic >= .75\u001b[39;49m\u001b[38;5;124;43m\"\u001b[39;49m\u001b[43m)\u001b[49m\n",
            "File \u001b[0;32m/anaconda/envs/azureml_py38/lib/python3.8/site-packages/pandas/core/frame.py:4440\u001b[0m, in \u001b[0;36mDataFrame.query\u001b[0;34m(self, expr, inplace, **kwargs)\u001b[0m\n\u001b[1;32m   4438\u001b[0m kwargs[\u001b[38;5;124m\"\u001b[39m\u001b[38;5;124mlevel\u001b[39m\u001b[38;5;124m\"\u001b[39m] \u001b[38;5;241m=\u001b[39m kwargs\u001b[38;5;241m.\u001b[39mpop(\u001b[38;5;124m\"\u001b[39m\u001b[38;5;124mlevel\u001b[39m\u001b[38;5;124m\"\u001b[39m, \u001b[38;5;241m0\u001b[39m) \u001b[38;5;241m+\u001b[39m \u001b[38;5;241m1\u001b[39m\n\u001b[1;32m   4439\u001b[0m kwargs[\u001b[38;5;124m\"\u001b[39m\u001b[38;5;124mtarget\u001b[39m\u001b[38;5;124m\"\u001b[39m] \u001b[38;5;241m=\u001b[39m \u001b[38;5;28;01mNone\u001b[39;00m\n\u001b[0;32m-> 4440\u001b[0m res \u001b[38;5;241m=\u001b[39m \u001b[38;5;28;43mself\u001b[39;49m\u001b[38;5;241;43m.\u001b[39;49m\u001b[43meval\u001b[49m\u001b[43m(\u001b[49m\u001b[43mexpr\u001b[49m\u001b[43m,\u001b[49m\u001b[43m \u001b[49m\u001b[38;5;241;43m*\u001b[39;49m\u001b[38;5;241;43m*\u001b[39;49m\u001b[43mkwargs\u001b[49m\u001b[43m)\u001b[49m\n\u001b[1;32m   4442\u001b[0m \u001b[38;5;28;01mtry\u001b[39;00m:\n\u001b[1;32m   4443\u001b[0m     result \u001b[38;5;241m=\u001b[39m \u001b[38;5;28mself\u001b[39m\u001b[38;5;241m.\u001b[39mloc[res]\n",
            "File \u001b[0;32m/anaconda/envs/azureml_py38/lib/python3.8/site-packages/pandas/core/frame.py:4566\u001b[0m, in \u001b[0;36mDataFrame.eval\u001b[0;34m(self, expr, inplace, **kwargs)\u001b[0m\n\u001b[1;32m   4563\u001b[0m     kwargs[\u001b[38;5;124m\"\u001b[39m\u001b[38;5;124mtarget\u001b[39m\u001b[38;5;124m\"\u001b[39m] \u001b[38;5;241m=\u001b[39m \u001b[38;5;28mself\u001b[39m\n\u001b[1;32m   4564\u001b[0m kwargs[\u001b[38;5;124m\"\u001b[39m\u001b[38;5;124mresolvers\u001b[39m\u001b[38;5;124m\"\u001b[39m] \u001b[38;5;241m=\u001b[39m \u001b[38;5;28mtuple\u001b[39m(kwargs\u001b[38;5;241m.\u001b[39mget(\u001b[38;5;124m\"\u001b[39m\u001b[38;5;124mresolvers\u001b[39m\u001b[38;5;124m\"\u001b[39m, ())) \u001b[38;5;241m+\u001b[39m resolvers\n\u001b[0;32m-> 4566\u001b[0m \u001b[38;5;28;01mreturn\u001b[39;00m \u001b[43m_eval\u001b[49m\u001b[43m(\u001b[49m\u001b[43mexpr\u001b[49m\u001b[43m,\u001b[49m\u001b[43m \u001b[49m\u001b[43minplace\u001b[49m\u001b[38;5;241;43m=\u001b[39;49m\u001b[43minplace\u001b[49m\u001b[43m,\u001b[49m\u001b[43m \u001b[49m\u001b[38;5;241;43m*\u001b[39;49m\u001b[38;5;241;43m*\u001b[39;49m\u001b[43mkwargs\u001b[49m\u001b[43m)\u001b[49m\n",
            "File \u001b[0;32m/anaconda/envs/azureml_py38/lib/python3.8/site-packages/pandas/core/computation/eval.py:357\u001b[0m, in \u001b[0;36meval\u001b[0;34m(expr, parser, engine, local_dict, global_dict, resolvers, level, target, inplace)\u001b[0m\n\u001b[1;32m    355\u001b[0m eng \u001b[38;5;241m=\u001b[39m ENGINES[engine]\n\u001b[1;32m    356\u001b[0m eng_inst \u001b[38;5;241m=\u001b[39m eng(parsed_expr)\n\u001b[0;32m--> 357\u001b[0m ret \u001b[38;5;241m=\u001b[39m \u001b[43meng_inst\u001b[49m\u001b[38;5;241;43m.\u001b[39;49m\u001b[43mevaluate\u001b[49m\u001b[43m(\u001b[49m\u001b[43m)\u001b[49m\n\u001b[1;32m    359\u001b[0m \u001b[38;5;28;01mif\u001b[39;00m parsed_expr\u001b[38;5;241m.\u001b[39massigner \u001b[38;5;129;01mis\u001b[39;00m \u001b[38;5;28;01mNone\u001b[39;00m:\n\u001b[1;32m    360\u001b[0m     \u001b[38;5;28;01mif\u001b[39;00m multi_line:\n",
            "File \u001b[0;32m/anaconda/envs/azureml_py38/lib/python3.8/site-packages/pandas/core/computation/engines.py:78\u001b[0m, in \u001b[0;36mAbstractEngine.evaluate\u001b[0;34m(self)\u001b[0m\n\u001b[1;32m     66\u001b[0m \u001b[38;5;250m\u001b[39m\u001b[38;5;124;03m\"\"\"\u001b[39;00m\n\u001b[1;32m     67\u001b[0m \u001b[38;5;124;03mRun the engine on the expression.\u001b[39;00m\n\u001b[1;32m     68\u001b[0m \n\u001b[0;32m   (...)\u001b[0m\n\u001b[1;32m     75\u001b[0m \u001b[38;5;124;03m    The result of the passed expression.\u001b[39;00m\n\u001b[1;32m     76\u001b[0m \u001b[38;5;124;03m\"\"\"\u001b[39;00m\n\u001b[1;32m     77\u001b[0m \u001b[38;5;28;01mif\u001b[39;00m \u001b[38;5;129;01mnot\u001b[39;00m \u001b[38;5;28mself\u001b[39m\u001b[38;5;241m.\u001b[39m_is_aligned:\n\u001b[0;32m---> 78\u001b[0m     \u001b[38;5;28mself\u001b[39m\u001b[38;5;241m.\u001b[39mresult_type, \u001b[38;5;28mself\u001b[39m\u001b[38;5;241m.\u001b[39maligned_axes \u001b[38;5;241m=\u001b[39m \u001b[43malign_terms\u001b[49m\u001b[43m(\u001b[49m\u001b[38;5;28;43mself\u001b[39;49m\u001b[38;5;241;43m.\u001b[39;49m\u001b[43mexpr\u001b[49m\u001b[38;5;241;43m.\u001b[39;49m\u001b[43mterms\u001b[49m\u001b[43m)\u001b[49m\n\u001b[1;32m     80\u001b[0m \u001b[38;5;66;03m# make sure no names in resolvers and locals/globals clash\u001b[39;00m\n\u001b[1;32m     81\u001b[0m res \u001b[38;5;241m=\u001b[39m \u001b[38;5;28mself\u001b[39m\u001b[38;5;241m.\u001b[39m_evaluate()\n",
            "File \u001b[0;32m/anaconda/envs/azureml_py38/lib/python3.8/site-packages/pandas/core/computation/align.py:161\u001b[0m, in \u001b[0;36malign_terms\u001b[0;34m(terms)\u001b[0m\n\u001b[1;32m    159\u001b[0m \u001b[38;5;66;03m# if all resolved variables are numeric scalars\u001b[39;00m\n\u001b[1;32m    160\u001b[0m \u001b[38;5;28;01mif\u001b[39;00m \u001b[38;5;28mall\u001b[39m(term\u001b[38;5;241m.\u001b[39mis_scalar \u001b[38;5;28;01mfor\u001b[39;00m term \u001b[38;5;129;01min\u001b[39;00m terms):\n\u001b[0;32m--> 161\u001b[0m     \u001b[38;5;28;01mreturn\u001b[39;00m \u001b[43mresult_type_many\u001b[49m\u001b[43m(\u001b[49m\u001b[38;5;241;43m*\u001b[39;49m\u001b[43m(\u001b[49m\u001b[43mterm\u001b[49m\u001b[38;5;241;43m.\u001b[39;49m\u001b[43mvalue\u001b[49m\u001b[43m \u001b[49m\u001b[38;5;28;43;01mfor\u001b[39;49;00m\u001b[43m \u001b[49m\u001b[43mterm\u001b[49m\u001b[43m \u001b[49m\u001b[38;5;129;43;01min\u001b[39;49;00m\u001b[43m \u001b[49m\u001b[43mterms\u001b[49m\u001b[43m)\u001b[49m\u001b[43m)\u001b[49m\u001b[38;5;241m.\u001b[39mtype, \u001b[38;5;28;01mNone\u001b[39;00m\n\u001b[1;32m    163\u001b[0m \u001b[38;5;66;03m# perform the main alignment\u001b[39;00m\n\u001b[1;32m    164\u001b[0m typ, axes \u001b[38;5;241m=\u001b[39m _align_core(terms)\n",
            "File \u001b[0;32m/anaconda/envs/azureml_py38/lib/python3.8/site-packages/pandas/core/computation/common.py:43\u001b[0m, in \u001b[0;36mresult_type_many\u001b[0;34m(*arrays_and_dtypes)\u001b[0m\n\u001b[1;32m     41\u001b[0m \u001b[38;5;28;01mif\u001b[39;00m non_ea_dtypes:\n\u001b[1;32m     42\u001b[0m     \u001b[38;5;28;01mtry\u001b[39;00m:\n\u001b[0;32m---> 43\u001b[0m         np_dtype \u001b[38;5;241m=\u001b[39m \u001b[43mnp\u001b[49m\u001b[38;5;241;43m.\u001b[39;49m\u001b[43mresult_type\u001b[49m\u001b[43m(\u001b[49m\u001b[38;5;241;43m*\u001b[39;49m\u001b[43mnon_ea_dtypes\u001b[49m\u001b[43m)\u001b[49m\n\u001b[1;32m     44\u001b[0m     \u001b[38;5;28;01mexcept\u001b[39;00m \u001b[38;5;167;01mValueError\u001b[39;00m:\n\u001b[1;32m     45\u001b[0m         np_dtype \u001b[38;5;241m=\u001b[39m reduce(np\u001b[38;5;241m.\u001b[39mresult_type, arrays_and_dtypes)\n",
            "File \u001b[0;32m<__array_function__ internals>:180\u001b[0m, in \u001b[0;36mresult_type\u001b[0;34m(*args, **kwargs)\u001b[0m\n",
            "\u001b[0;31mTypeError\u001b[0m: data type 'saftey_concerns' not understood"
          ]
        }
      ],
      "execution_count": 10,
      "metadata": {
        "jupyter": {
          "source_hidden": false,
          "outputs_hidden": false
        },
        "nteract": {
          "transient": {
            "deleting": false
          }
        },
        "gather": {
          "logged": 1691079526626
        }
      }
    },
    {
      "cell_type": "code",
      "source": [
        "topic = \"safety_concerns\"\n",
        "len_topic = data_ra_sentiment.query(f\"`{topic}` >= .75\").reset_index(drop=True).shape[0]\n",
        "len_all = data_ra_sentiment.shape[0]\n",
        "len_topic = round(len_topic / len_all, 2)\n",
        "data_topic = pd.DataFrame(\n",
        "    {\"len_topic\": len_topic, \"len_all\": len_all, \"percent_topic\": len_topic},\n",
        "    index=[0],\n",
        ")\n",
        "\n",
        "data_topic"
      ],
      "outputs": [],
      "execution_count": null,
      "metadata": {
        "jupyter": {
          "source_hidden": false,
          "outputs_hidden": false
        },
        "nteract": {
          "transient": {
            "deleting": false
          }
        },
        "gather": {
          "logged": 1691079497179
        }
      }
    },
    {
      "cell_type": "code",
      "source": [
        "data_ra_sentiment"
      ],
      "outputs": [],
      "execution_count": null,
      "metadata": {
        "jupyter": {
          "source_hidden": false,
          "outputs_hidden": false
        },
        "nteract": {
          "transient": {
            "deleting": false
          }
        },
        "gather": {
          "logged": 1691079497192
        }
      }
    },
    {
      "cell_type": "code",
      "source": [
        "data_ra_topic = data_ra_sentiment.query(f\"`{topic}` >= .75\").reset_index(drop=True)"
      ],
      "outputs": [],
      "execution_count": 19,
      "metadata": {
        "jupyter": {
          "source_hidden": false,
          "outputs_hidden": false
        },
        "nteract": {
          "transient": {
            "deleting": false
          }
        },
        "gather": {
          "logged": 1691072907513
        }
      }
    },
    {
      "cell_type": "code",
      "source": [
        "import nltk\n",
        "from nltk.corpus import stopwords\n",
        "from nltk.tokenize import word_tokenize\n",
        "from nltk.stem import WordNetLemmatizer\n",
        "from bertopic import BERTopic\n",
        "\n",
        "# Download the necessary NLTK data\n",
        "nltk.download(\"punkt\")\n",
        "nltk.download(\"stopwords\")\n",
        "nltk.download(\"wordnet\")\n",
        "\n",
        "stop_words = set(stopwords.words(\"english\"))\n",
        "\n",
        "# Add custom words to stop words\n",
        "custom_stop_words = [\"humira\", \"syringe\", \"kit\", \"pen\", \"injector\"]\n",
        "stop_words.update(custom_stop_words)\n",
        "\n",
        "# Initialize the lemmatizer\n",
        "lemmatizer = WordNetLemmatizer()\n",
        "\n",
        "\n",
        "# Function to preprocess text\n",
        "def preprocess_text(text):\n",
        "    # Lowercase the text\n",
        "    text = text.lower()\n",
        "    # Tokenize the text\n",
        "    word_tokens = word_tokenize(text)\n",
        "    # Remove stopwords and lemmatize\n",
        "    filtered_text = [\n",
        "        lemmatizer.lemmatize(word) for word in word_tokens if word not in stop_words\n",
        "    ]\n",
        "    return \" \".join(filtered_text)\n",
        "\n",
        "\n",
        "# Preprocess the reviews\n",
        "reviews = data_topic[\"reviews_clean\"].apply(preprocess_text).values\n",
        "\n",
        "# Create BERTopic model\n",
        "topic_model = BERTopic(language=\"english\")\n",
        "\n",
        "# Fit the model to the reviews\n",
        "topics, _ = topic_model.fit_transform(reviews)\n",
        "\n",
        "# Get the topic frequencies\n",
        "topic_info = topic_model.get_topic_info()"
      ],
      "outputs": [
        {
          "output_type": "stream",
          "name": "stdout",
          "text": "huggingface/tokenizers: The current process just got forked, after parallelism has already been used. Disabling parallelism to avoid deadlocks...\nTo disable this warning, you can either:\n\t- Avoid using `tokenizers` before the fork if possible\n\t- Explicitly set the environment variable TOKENIZERS_PARALLELISM=(true | false)\n"
        },
        {
          "output_type": "stream",
          "name": "stderr",
          "text": "[nltk_data] Downloading package punkt to /home/azureuser/nltk_data...\n[nltk_data]   Package punkt is already up-to-date!\n[nltk_data] Downloading package stopwords to\n[nltk_data]     /home/azureuser/nltk_data...\n[nltk_data]   Package stopwords is already up-to-date!\n[nltk_data] Downloading package wordnet to\n[nltk_data]     /home/azureuser/nltk_data...\n[nltk_data]   Package wordnet is already up-to-date!\n"
        },
        {
          "output_type": "error",
          "ename": "KeyError",
          "evalue": "'reviews_clean'",
          "traceback": [
            "\u001b[0;31m---------------------------------------------------------------------------\u001b[0m",
            "\u001b[0;31mKeyError\u001b[0m                                  Traceback (most recent call last)",
            "File \u001b[0;32m/anaconda/envs/azureml_py38/lib/python3.8/site-packages/pandas/core/indexes/base.py:3653\u001b[0m, in \u001b[0;36mIndex.get_loc\u001b[0;34m(self, key)\u001b[0m\n\u001b[1;32m   3652\u001b[0m \u001b[38;5;28;01mtry\u001b[39;00m:\n\u001b[0;32m-> 3653\u001b[0m     \u001b[38;5;28;01mreturn\u001b[39;00m \u001b[38;5;28;43mself\u001b[39;49m\u001b[38;5;241;43m.\u001b[39;49m\u001b[43m_engine\u001b[49m\u001b[38;5;241;43m.\u001b[39;49m\u001b[43mget_loc\u001b[49m\u001b[43m(\u001b[49m\u001b[43mcasted_key\u001b[49m\u001b[43m)\u001b[49m\n\u001b[1;32m   3654\u001b[0m \u001b[38;5;28;01mexcept\u001b[39;00m \u001b[38;5;167;01mKeyError\u001b[39;00m \u001b[38;5;28;01mas\u001b[39;00m err:\n",
            "File \u001b[0;32m/anaconda/envs/azureml_py38/lib/python3.8/site-packages/pandas/_libs/index.pyx:147\u001b[0m, in \u001b[0;36mpandas._libs.index.IndexEngine.get_loc\u001b[0;34m()\u001b[0m\n",
            "File \u001b[0;32m/anaconda/envs/azureml_py38/lib/python3.8/site-packages/pandas/_libs/index.pyx:176\u001b[0m, in \u001b[0;36mpandas._libs.index.IndexEngine.get_loc\u001b[0;34m()\u001b[0m\n",
            "File \u001b[0;32mpandas/_libs/hashtable_class_helper.pxi:7080\u001b[0m, in \u001b[0;36mpandas._libs.hashtable.PyObjectHashTable.get_item\u001b[0;34m()\u001b[0m\n",
            "File \u001b[0;32mpandas/_libs/hashtable_class_helper.pxi:7088\u001b[0m, in \u001b[0;36mpandas._libs.hashtable.PyObjectHashTable.get_item\u001b[0;34m()\u001b[0m\n",
            "\u001b[0;31mKeyError\u001b[0m: 'reviews_clean'",
            "\nThe above exception was the direct cause of the following exception:\n",
            "\u001b[0;31mKeyError\u001b[0m                                  Traceback (most recent call last)",
            "Cell \u001b[0;32mIn[20], line 36\u001b[0m\n\u001b[1;32m     32\u001b[0m     \u001b[38;5;28;01mreturn\u001b[39;00m \u001b[38;5;124m\"\u001b[39m\u001b[38;5;124m \u001b[39m\u001b[38;5;124m\"\u001b[39m\u001b[38;5;241m.\u001b[39mjoin(filtered_text)\n\u001b[1;32m     35\u001b[0m \u001b[38;5;66;03m# Preprocess the reviews\u001b[39;00m\n\u001b[0;32m---> 36\u001b[0m reviews \u001b[38;5;241m=\u001b[39m \u001b[43mdata_topic\u001b[49m\u001b[43m[\u001b[49m\u001b[38;5;124;43m\"\u001b[39;49m\u001b[38;5;124;43mreviews_clean\u001b[39;49m\u001b[38;5;124;43m\"\u001b[39;49m\u001b[43m]\u001b[49m\u001b[38;5;241m.\u001b[39mapply(preprocess_text)\u001b[38;5;241m.\u001b[39mvalues\n\u001b[1;32m     38\u001b[0m \u001b[38;5;66;03m# Create BERTopic model\u001b[39;00m\n\u001b[1;32m     39\u001b[0m topic_model \u001b[38;5;241m=\u001b[39m BERTopic(language\u001b[38;5;241m=\u001b[39m\u001b[38;5;124m\"\u001b[39m\u001b[38;5;124menglish\u001b[39m\u001b[38;5;124m\"\u001b[39m)\n",
            "File \u001b[0;32m/anaconda/envs/azureml_py38/lib/python3.8/site-packages/pandas/core/frame.py:3761\u001b[0m, in \u001b[0;36mDataFrame.__getitem__\u001b[0;34m(self, key)\u001b[0m\n\u001b[1;32m   3759\u001b[0m \u001b[38;5;28;01mif\u001b[39;00m \u001b[38;5;28mself\u001b[39m\u001b[38;5;241m.\u001b[39mcolumns\u001b[38;5;241m.\u001b[39mnlevels \u001b[38;5;241m>\u001b[39m \u001b[38;5;241m1\u001b[39m:\n\u001b[1;32m   3760\u001b[0m     \u001b[38;5;28;01mreturn\u001b[39;00m \u001b[38;5;28mself\u001b[39m\u001b[38;5;241m.\u001b[39m_getitem_multilevel(key)\n\u001b[0;32m-> 3761\u001b[0m indexer \u001b[38;5;241m=\u001b[39m \u001b[38;5;28;43mself\u001b[39;49m\u001b[38;5;241;43m.\u001b[39;49m\u001b[43mcolumns\u001b[49m\u001b[38;5;241;43m.\u001b[39;49m\u001b[43mget_loc\u001b[49m\u001b[43m(\u001b[49m\u001b[43mkey\u001b[49m\u001b[43m)\u001b[49m\n\u001b[1;32m   3762\u001b[0m \u001b[38;5;28;01mif\u001b[39;00m is_integer(indexer):\n\u001b[1;32m   3763\u001b[0m     indexer \u001b[38;5;241m=\u001b[39m [indexer]\n",
            "File \u001b[0;32m/anaconda/envs/azureml_py38/lib/python3.8/site-packages/pandas/core/indexes/base.py:3655\u001b[0m, in \u001b[0;36mIndex.get_loc\u001b[0;34m(self, key)\u001b[0m\n\u001b[1;32m   3653\u001b[0m     \u001b[38;5;28;01mreturn\u001b[39;00m \u001b[38;5;28mself\u001b[39m\u001b[38;5;241m.\u001b[39m_engine\u001b[38;5;241m.\u001b[39mget_loc(casted_key)\n\u001b[1;32m   3654\u001b[0m \u001b[38;5;28;01mexcept\u001b[39;00m \u001b[38;5;167;01mKeyError\u001b[39;00m \u001b[38;5;28;01mas\u001b[39;00m err:\n\u001b[0;32m-> 3655\u001b[0m     \u001b[38;5;28;01mraise\u001b[39;00m \u001b[38;5;167;01mKeyError\u001b[39;00m(key) \u001b[38;5;28;01mfrom\u001b[39;00m \u001b[38;5;21;01merr\u001b[39;00m\n\u001b[1;32m   3656\u001b[0m \u001b[38;5;28;01mexcept\u001b[39;00m \u001b[38;5;167;01mTypeError\u001b[39;00m:\n\u001b[1;32m   3657\u001b[0m     \u001b[38;5;66;03m# If we have a listlike key, _check_indexing_error will raise\u001b[39;00m\n\u001b[1;32m   3658\u001b[0m     \u001b[38;5;66;03m#  InvalidIndexError. Otherwise we fall through and re-raise\u001b[39;00m\n\u001b[1;32m   3659\u001b[0m     \u001b[38;5;66;03m#  the TypeError.\u001b[39;00m\n\u001b[1;32m   3660\u001b[0m     \u001b[38;5;28mself\u001b[39m\u001b[38;5;241m.\u001b[39m_check_indexing_error(key)\n",
            "\u001b[0;31mKeyError\u001b[0m: 'reviews_clean'"
          ]
        }
      ],
      "execution_count": 20,
      "metadata": {
        "jupyter": {
          "source_hidden": false,
          "outputs_hidden": false
        },
        "nteract": {
          "transient": {
            "deleting": false
          }
        },
        "gather": {
          "logged": 1691072942375
        }
      }
    },
    {
      "cell_type": "code",
      "source": [
        "topic_info"
      ],
      "outputs": [
        {
          "output_type": "execute_result",
          "execution_count": 70,
          "data": {
            "text/plain": "   Topic  Count                        Name  \\\n0     -1     29  -1_pain_ve_injection_month   \n1      0     49    0_pain_year_injection_ra   \n2      1     14     1_sting_great_pain_year   \n\n                                      Representation  \\\n0  [pain, ve, injection, month, nt, year, taking,...   \n1  [pain, year, injection, ra, life, nt, methotre...   \n2  [sting, great, pain, year, using, painful, fla...   \n\n                                 Representative_Docs  \n0  [since january 2009 taking without mtx taking ...  \n1  [diagnosed 4 year ago started methotrexate emb...  \n2  ['ve using 3 year . made remarkable improvemen...  ",
            "text/html": "<div>\n<style scoped>\n    .dataframe tbody tr th:only-of-type {\n        vertical-align: middle;\n    }\n\n    .dataframe tbody tr th {\n        vertical-align: top;\n    }\n\n    .dataframe thead th {\n        text-align: right;\n    }\n</style>\n<table border=\"1\" class=\"dataframe\">\n  <thead>\n    <tr style=\"text-align: right;\">\n      <th></th>\n      <th>Topic</th>\n      <th>Count</th>\n      <th>Name</th>\n      <th>Representation</th>\n      <th>Representative_Docs</th>\n    </tr>\n  </thead>\n  <tbody>\n    <tr>\n      <th>0</th>\n      <td>-1</td>\n      <td>29</td>\n      <td>-1_pain_ve_injection_month</td>\n      <td>[pain, ve, injection, month, nt, year, taking,...</td>\n      <td>[since january 2009 taking without mtx taking ...</td>\n    </tr>\n    <tr>\n      <th>1</th>\n      <td>0</td>\n      <td>49</td>\n      <td>0_pain_year_injection_ra</td>\n      <td>[pain, year, injection, ra, life, nt, methotre...</td>\n      <td>[diagnosed 4 year ago started methotrexate emb...</td>\n    </tr>\n    <tr>\n      <th>2</th>\n      <td>1</td>\n      <td>14</td>\n      <td>1_sting_great_pain_year</td>\n      <td>[sting, great, pain, year, using, painful, fla...</td>\n      <td>['ve using 3 year . made remarkable improvemen...</td>\n    </tr>\n  </tbody>\n</table>\n</div>"
          },
          "metadata": {}
        }
      ],
      "execution_count": 70,
      "metadata": {
        "jupyter": {
          "source_hidden": false,
          "outputs_hidden": false
        },
        "nteract": {
          "transient": {
            "deleting": false
          }
        },
        "gather": {
          "logged": 1690993111314
        }
      }
    }
  ],
  "metadata": {
    "kernelspec": {
      "name": "python38-azureml",
      "language": "python",
      "display_name": "Python 3.8 - AzureML"
    },
    "language_info": {
      "name": "python",
      "version": "3.8.5",
      "mimetype": "text/x-python",
      "codemirror_mode": {
        "name": "ipython",
        "version": 3
      },
      "pygments_lexer": "ipython3",
      "nbconvert_exporter": "python",
      "file_extension": ".py"
    },
    "microsoft": {
      "ms_spell_check": {
        "ms_spell_check_language": "en"
      },
      "host": {
        "AzureML": {
          "notebookHasBeenCompleted": true
        }
      }
    },
    "kernel_info": {
      "name": "python38-azureml"
    },
    "nteract": {
      "version": "nteract-front-end@1.0.0"
    }
  },
  "nbformat": 4,
  "nbformat_minor": 2
}