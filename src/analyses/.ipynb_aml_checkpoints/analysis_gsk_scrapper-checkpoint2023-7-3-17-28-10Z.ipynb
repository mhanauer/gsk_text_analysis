{
  "cells": [
    {
      "cell_type": "code",
      "source": [
        "%load_ext lab_black"
      ],
      "outputs": [],
      "execution_count": 1,
      "metadata": {}
    },
    {
      "cell_type": "markdown",
      "source": [
        "Step: Load data"
      ],
      "metadata": {
        "nteract": {
          "transient": {
            "deleting": false
          }
        }
      }
    },
    {
      "cell_type": "code",
      "source": [
        "import pandas as pd\n",
        "import os\n",
        "import numpy as np\n",
        "import nltk\n",
        "from pyprojroot import here\n",
        "\n",
        "from skimpy import clean_columns\n",
        "from data_cleaning.fun_hot_encode_limit import fun_hot_encode_limit\n",
        "\n",
        "path_data = here(\"./data\")\n",
        "os.chdir(path_data)\n",
        "data_ra = pd.read_csv(\"ra_data.csv\")\n",
        "data_ra = clean_columns(data_ra)\n",
        "\n",
        "nltk.download(\"vader_lexicon\")\n",
        "data_ra[\"date\"] = pd.to_datetime(data_ra[\"date\"])"
      ],
      "outputs": [
        {
          "output_type": "display_data",
          "data": {
            "text/plain": "\u001b[1;36m11\u001b[0m column names have been cleaned\n",
            "text/html": "<pre style=\"white-space:pre;overflow-x:auto;line-height:normal;font-family:Menlo,'DejaVu Sans Mono',consolas,'Courier New',monospace\"><span style=\"color: #008080; text-decoration-color: #008080; font-weight: bold\">11</span> column names have been cleaned\n</pre>\n"
          },
          "metadata": {}
        },
        {
          "output_type": "stream",
          "name": "stderr",
          "text": "[nltk_data] Downloading package vader_lexicon to\n[nltk_data]     /home/azureuser/nltk_data...\n[nltk_data]   Package vader_lexicon is already up-to-date!\n/tmp/ipykernel_6498/814015519.py:16: UserWarning: Could not infer format, so each element will be parsed individually, falling back to `dateutil`. To ensure parsing is consistent and as-expected, please specify a format.\n  data_ra[\"date\"] = pd.to_datetime(data_ra[\"date\"])\n"
        }
      ],
      "execution_count": 2,
      "metadata": {
        "jupyter": {
          "source_hidden": false,
          "outputs_hidden": false
        },
        "nteract": {
          "transient": {
            "deleting": false
          }
        },
        "gather": {
          "logged": 1691028429023
        }
      }
    },
    {
      "cell_type": "code",
      "source": [
        "import requests\n",
        "from bs4 import BeautifulSoup\n",
        "import pandas as pd\n",
        "\n",
        "\n",
        "def get_reviews(url):\n",
        "    headers = {\"User-Agent\": \"Mozilla/5.0\"}\n",
        "    response = requests.get(url, headers=headers)\n",
        "\n",
        "    soup = BeautifulSoup(response.text, \"html.parser\")\n",
        "    reviews = soup.find_all(\"div\", class_=\"description\")\n",
        "\n",
        "    reviews_list = []\n",
        "\n",
        "    for review in reviews:\n",
        "        review_dict = {}\n",
        "        visible_text = review.find(\"span\", class_=\"showSec\")\n",
        "        hidden_text = review.find(\"span\", class_=\"hiddenSec\")\n",
        "\n",
        "        # If there's visible text, add it to the review dictionary\n",
        "        if visible_text:\n",
        "            review_dict[\"text\"] = visible_text.text.strip()\n",
        "        # If there's hidden text, append it to the review dictionary\n",
        "        if hidden_text:\n",
        "            review_dict[\"text\"] += \" \" + hidden_text.text.strip()\n",
        "\n",
        "        reviews_list.append(review_dict)\n",
        "\n",
        "    return pd.DataFrame(reviews_list)\n",
        "\n",
        "\n",
        "url = \"https://reviews.webmd.com/drugs/drugreview-64713-humira-subcutaneous\"\n",
        "df = get_reviews(url)\n",
        "print(df)"
      ],
      "outputs": [
        {
          "output_type": "stream",
          "name": "stdout",
          "text": "                                                 text\n0                                                 NaN\n1   My dear old mother took Humira for her rheumat...\n2   I was at wit's end with approximately 90% or m...\n3   This drug is poison. I was on it for 2 years a...\n4                                                 NaN\n5                                                 NaN\n6                                                 NaN\n7                                                 NaN\n8                                                 NaN\n9                                                 NaN\n10  My husband had a problem in his nails and been...\n11                                                NaN\n12                                                NaN\n13                                                NaN\n14  My grandmother died from this medication. She ...\n15                                                NaN\n16  I was on methotrexate and it quit working for ...\n17                                                NaN\n18                                                NaN\n"
        }
      ],
      "execution_count": 6,
      "metadata": {
        "jupyter": {
          "source_hidden": false,
          "outputs_hidden": false
        },
        "nteract": {
          "transient": {
            "deleting": false
          }
        },
        "gather": {
          "logged": 1691029610897
        }
      }
    },
    {
      "cell_type": "code",
      "source": [
        "import requests\n",
        "from bs4 import BeautifulSoup\n",
        "import pandas as pd\n",
        "\n",
        "\n",
        "def get_reviews(base_url):\n",
        "    headers = {\"User-Agent\": \"Mozilla/5.0\"}\n",
        "\n",
        "    reviews_list = []\n",
        "\n",
        "    for page in range(1, 11):  # adjust range as necessary\n",
        "        url = f\"{base_url}?conditionid=&sortval=1&page={page}&next_page=true\"\n",
        "        response = requests.get(url, headers=headers)\n",
        "\n",
        "        soup = BeautifulSoup(response.text, \"html.parser\")\n",
        "        reviews = soup.find_all(\"div\", class_=\"description\")\n",
        "\n",
        "        for review in reviews:\n",
        "            review_dict = {}\n",
        "            visible_text = review.find(\"span\", class_=\"showSec\")\n",
        "            hidden_text = review.find(\"span\", class_=\"hiddenSec\")\n",
        "\n",
        "            # If there's visible text, add it to the review dictionary\n",
        "            if visible_text:\n",
        "                review_dict[\"text\"] = visible_text.text.strip()\n",
        "            # If there's hidden text, append it to the review dictionary\n",
        "            if hidden_text:\n",
        "                review_dict[\"text\"] += \" \" + hidden_text.text.strip()\n",
        "\n",
        "            reviews_list.append(review_dict)\n",
        "\n",
        "    return pd.DataFrame(reviews_list)\n",
        "\n",
        "\n",
        "base_url = \"https://reviews.webmd.com/drugs/drugreview-64713-humira-subcutaneous\"\n",
        "df = get_reviews(base_url)\n",
        "print(df)"
      ],
      "outputs": [
        {
          "output_type": "stream",
          "name": "stdout",
          "text": "                                                  text\n0                                                  NaN\n1    My dear old mother took Humira for her rheumat...\n2    I was at wit's end with approximately 90% or m...\n3    This drug is poison. I was on it for 2 years a...\n4                                                  NaN\n..                                                 ...\n183  Since January 2009 I am taking Humira without ...\n184  Fantastic.  I hope they don't take it away.  F...\n185                                                NaN\n186                                                NaN\n187                                                NaN\n\n[188 rows x 1 columns]\n"
        }
      ],
      "execution_count": 10,
      "metadata": {
        "jupyter": {
          "source_hidden": false,
          "outputs_hidden": false
        },
        "nteract": {
          "transient": {
            "deleting": false
          }
        },
        "gather": {
          "logged": 1691029952630
        }
      }
    },
    {
      "cell_type": "code",
      "source": [
        "pd.DataFrame(df).dropna().reset_index(drop=True)"
      ],
      "outputs": [
        {
          "output_type": "execute_result",
          "execution_count": 11,
          "data": {
            "text/plain": "                                                 text\n0   My dear old mother took Humira for her rheumat...\n1   I was at wit's end with approximately 90% or m...\n2   This drug is poison. I was on it for 2 years a...\n3   My husband had a problem in his nails and been...\n4   My grandmother died from this medication. She ...\n5   I was on methotrexate and it quit working for ...\n6   I have severe psoriasis, 85% of my body is cov...\n7   I had results in 2 weeks after starting Humira...\n8   The pen for Enbrel seems to be better made as ...\n9   I have been taking Humira fortnightly with a p...\n10  I was diagnosed with RA in 2011.  I began taki...\n11  I was taking Humira injections for ankylosing ...\n12  I suffer from Ulcerated Colotis and tried all ...\n13  Humira has given me my life back. I tried meth...\n14  I was diagnosed with RA about 4 years ago, was...\n15  The first 18 months I was on humira things wer...\n16  I took humira following six months treatment w...\n17  I started taking Humira after I was diagnosed ...\n18  I was prescribed this for severe Crohn's Disea...\n19  Shortly after taking Humira, histoplasmosis ra...\n20  I have had RA since I was 17 (now 42), been on...\n21  I whole heartedly agree w/ Devastsed-this drug...\n22  I was doing fine with the medication until aft...\n23  I was diagnosed with skin psoriasis at age 18 ...\n24  By the time I had my second injection my psori...\n25  I have to tell everyone DO NOT TAKE THIS!!! My...\n26  LOVE IT!  I have put off going on the biologic...\n27  I'm 49 yrs old, diagnosed in 1998, lost 30 lbs...\n28  I started to develop Crohn's arthritis and ful...\n29  Just starting taking this for AS - has anyone ...\n30  I have had RA for the last 10 years and have n...\n31  In 2006, the back of my left knee started hurt...\n32  I am a rare patient, diagnosed at age 8 with j...\n33  I used Humira for 3 years.  I have RA and Croh...\n34  Have been taking for 9 months and feel much be...\n35  I am 40yrs old, diagnosed at age 7 with  ankyl...\n36  To reduce pain associated with the shots warm ...\n37  Diagnosed with Crohn's 3 years ago.  Had a bad...\n38  I had been going to a Family Doctor and compla...\n39  I had been on Remicade with plaquenil, and fou...\n40  I only done 6 injections and I can tell a diff...\n41  I have come to live with RA for the last 29 ye...\n42  Simply amazing!  Was diagnosed with Ankylosing...\n43  I am 25 years old & was diagnosed over 3 1/2 y...\n44  Hello, I was diagnosed with RA when I was 28 I...\n45  I have had RA for about 3 years..I was on meth...\n46  I take Humira for Ankylosing Spondylitis, and ...\n47  I have had severe RA for 16 years.  As a 10 yr...\n48  I was diagnossed with Severe RA in 2000 at the...\n49  My experience with Humira has been overall pos...\n50  I've been taking Humira (pen) for 3 months and...\n51  I have taken Humira for 2 doses and am about t...\n52  This medication has caused numerous Bad Advers...\n53  I was diagnosed with Crohns Disease about 6 ye...\n54  I was diagnosed 4 years ago and was started on...\n55  Since January 2009 I am taking Humira without ...\n56  Fantastic.  I hope they don't take it away.  F...",
            "text/html": "<div>\n<style scoped>\n    .dataframe tbody tr th:only-of-type {\n        vertical-align: middle;\n    }\n\n    .dataframe tbody tr th {\n        vertical-align: top;\n    }\n\n    .dataframe thead th {\n        text-align: right;\n    }\n</style>\n<table border=\"1\" class=\"dataframe\">\n  <thead>\n    <tr style=\"text-align: right;\">\n      <th></th>\n      <th>text</th>\n    </tr>\n  </thead>\n  <tbody>\n    <tr>\n      <th>0</th>\n      <td>My dear old mother took Humira for her rheumat...</td>\n    </tr>\n    <tr>\n      <th>1</th>\n      <td>I was at wit's end with approximately 90% or m...</td>\n    </tr>\n    <tr>\n      <th>2</th>\n      <td>This drug is poison. I was on it for 2 years a...</td>\n    </tr>\n    <tr>\n      <th>3</th>\n      <td>My husband had a problem in his nails and been...</td>\n    </tr>\n    <tr>\n      <th>4</th>\n      <td>My grandmother died from this medication. She ...</td>\n    </tr>\n    <tr>\n      <th>5</th>\n      <td>I was on methotrexate and it quit working for ...</td>\n    </tr>\n    <tr>\n      <th>6</th>\n      <td>I have severe psoriasis, 85% of my body is cov...</td>\n    </tr>\n    <tr>\n      <th>7</th>\n      <td>I had results in 2 weeks after starting Humira...</td>\n    </tr>\n    <tr>\n      <th>8</th>\n      <td>The pen for Enbrel seems to be better made as ...</td>\n    </tr>\n    <tr>\n      <th>9</th>\n      <td>I have been taking Humira fortnightly with a p...</td>\n    </tr>\n    <tr>\n      <th>10</th>\n      <td>I was diagnosed with RA in 2011.  I began taki...</td>\n    </tr>\n    <tr>\n      <th>11</th>\n      <td>I was taking Humira injections for ankylosing ...</td>\n    </tr>\n    <tr>\n      <th>12</th>\n      <td>I suffer from Ulcerated Colotis and tried all ...</td>\n    </tr>\n    <tr>\n      <th>13</th>\n      <td>Humira has given me my life back. I tried meth...</td>\n    </tr>\n    <tr>\n      <th>14</th>\n      <td>I was diagnosed with RA about 4 years ago, was...</td>\n    </tr>\n    <tr>\n      <th>15</th>\n      <td>The first 18 months I was on humira things wer...</td>\n    </tr>\n    <tr>\n      <th>16</th>\n      <td>I took humira following six months treatment w...</td>\n    </tr>\n    <tr>\n      <th>17</th>\n      <td>I started taking Humira after I was diagnosed ...</td>\n    </tr>\n    <tr>\n      <th>18</th>\n      <td>I was prescribed this for severe Crohn's Disea...</td>\n    </tr>\n    <tr>\n      <th>19</th>\n      <td>Shortly after taking Humira, histoplasmosis ra...</td>\n    </tr>\n    <tr>\n      <th>20</th>\n      <td>I have had RA since I was 17 (now 42), been on...</td>\n    </tr>\n    <tr>\n      <th>21</th>\n      <td>I whole heartedly agree w/ Devastsed-this drug...</td>\n    </tr>\n    <tr>\n      <th>22</th>\n      <td>I was doing fine with the medication until aft...</td>\n    </tr>\n    <tr>\n      <th>23</th>\n      <td>I was diagnosed with skin psoriasis at age 18 ...</td>\n    </tr>\n    <tr>\n      <th>24</th>\n      <td>By the time I had my second injection my psori...</td>\n    </tr>\n    <tr>\n      <th>25</th>\n      <td>I have to tell everyone DO NOT TAKE THIS!!! My...</td>\n    </tr>\n    <tr>\n      <th>26</th>\n      <td>LOVE IT!  I have put off going on the biologic...</td>\n    </tr>\n    <tr>\n      <th>27</th>\n      <td>I'm 49 yrs old, diagnosed in 1998, lost 30 lbs...</td>\n    </tr>\n    <tr>\n      <th>28</th>\n      <td>I started to develop Crohn's arthritis and ful...</td>\n    </tr>\n    <tr>\n      <th>29</th>\n      <td>Just starting taking this for AS - has anyone ...</td>\n    </tr>\n    <tr>\n      <th>30</th>\n      <td>I have had RA for the last 10 years and have n...</td>\n    </tr>\n    <tr>\n      <th>31</th>\n      <td>In 2006, the back of my left knee started hurt...</td>\n    </tr>\n    <tr>\n      <th>32</th>\n      <td>I am a rare patient, diagnosed at age 8 with j...</td>\n    </tr>\n    <tr>\n      <th>33</th>\n      <td>I used Humira for 3 years.  I have RA and Croh...</td>\n    </tr>\n    <tr>\n      <th>34</th>\n      <td>Have been taking for 9 months and feel much be...</td>\n    </tr>\n    <tr>\n      <th>35</th>\n      <td>I am 40yrs old, diagnosed at age 7 with  ankyl...</td>\n    </tr>\n    <tr>\n      <th>36</th>\n      <td>To reduce pain associated with the shots warm ...</td>\n    </tr>\n    <tr>\n      <th>37</th>\n      <td>Diagnosed with Crohn's 3 years ago.  Had a bad...</td>\n    </tr>\n    <tr>\n      <th>38</th>\n      <td>I had been going to a Family Doctor and compla...</td>\n    </tr>\n    <tr>\n      <th>39</th>\n      <td>I had been on Remicade with plaquenil, and fou...</td>\n    </tr>\n    <tr>\n      <th>40</th>\n      <td>I only done 6 injections and I can tell a diff...</td>\n    </tr>\n    <tr>\n      <th>41</th>\n      <td>I have come to live with RA for the last 29 ye...</td>\n    </tr>\n    <tr>\n      <th>42</th>\n      <td>Simply amazing!  Was diagnosed with Ankylosing...</td>\n    </tr>\n    <tr>\n      <th>43</th>\n      <td>I am 25 years old &amp; was diagnosed over 3 1/2 y...</td>\n    </tr>\n    <tr>\n      <th>44</th>\n      <td>Hello, I was diagnosed with RA when I was 28 I...</td>\n    </tr>\n    <tr>\n      <th>45</th>\n      <td>I have had RA for about 3 years..I was on meth...</td>\n    </tr>\n    <tr>\n      <th>46</th>\n      <td>I take Humira for Ankylosing Spondylitis, and ...</td>\n    </tr>\n    <tr>\n      <th>47</th>\n      <td>I have had severe RA for 16 years.  As a 10 yr...</td>\n    </tr>\n    <tr>\n      <th>48</th>\n      <td>I was diagnossed with Severe RA in 2000 at the...</td>\n    </tr>\n    <tr>\n      <th>49</th>\n      <td>My experience with Humira has been overall pos...</td>\n    </tr>\n    <tr>\n      <th>50</th>\n      <td>I've been taking Humira (pen) for 3 months and...</td>\n    </tr>\n    <tr>\n      <th>51</th>\n      <td>I have taken Humira for 2 doses and am about t...</td>\n    </tr>\n    <tr>\n      <th>52</th>\n      <td>This medication has caused numerous Bad Advers...</td>\n    </tr>\n    <tr>\n      <th>53</th>\n      <td>I was diagnosed with Crohns Disease about 6 ye...</td>\n    </tr>\n    <tr>\n      <th>54</th>\n      <td>I was diagnosed 4 years ago and was started on...</td>\n    </tr>\n    <tr>\n      <th>55</th>\n      <td>Since January 2009 I am taking Humira without ...</td>\n    </tr>\n    <tr>\n      <th>56</th>\n      <td>Fantastic.  I hope they don't take it away.  F...</td>\n    </tr>\n  </tbody>\n</table>\n</div>"
          },
          "metadata": {}
        }
      ],
      "execution_count": 11,
      "metadata": {
        "jupyter": {
          "source_hidden": false,
          "outputs_hidden": false
        },
        "nteract": {
          "transient": {
            "deleting": false
          }
        },
        "gather": {
          "logged": 1691029965933
        }
      }
    }
  ],
  "metadata": {
    "kernelspec": {
      "name": "python38-azureml",
      "language": "python",
      "display_name": "Python 3.8 - AzureML"
    },
    "language_info": {
      "name": "python",
      "version": "3.8.5",
      "mimetype": "text/x-python",
      "codemirror_mode": {
        "name": "ipython",
        "version": 3
      },
      "pygments_lexer": "ipython3",
      "nbconvert_exporter": "python",
      "file_extension": ".py"
    },
    "microsoft": {
      "ms_spell_check": {
        "ms_spell_check_language": "en"
      },
      "host": {
        "AzureML": {
          "notebookHasBeenCompleted": true
        }
      }
    },
    "kernel_info": {
      "name": "python38-azureml"
    },
    "nteract": {
      "version": "nteract-front-end@1.0.0"
    }
  },
  "nbformat": 4,
  "nbformat_minor": 2
}