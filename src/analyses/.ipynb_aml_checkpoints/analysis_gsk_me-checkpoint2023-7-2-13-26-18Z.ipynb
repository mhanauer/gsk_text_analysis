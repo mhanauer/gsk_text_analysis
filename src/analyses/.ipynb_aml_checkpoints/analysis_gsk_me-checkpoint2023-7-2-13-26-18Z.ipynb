{
  "cells": [
    {
      "cell_type": "code",
      "source": [
        "%load_ext lab_black"
      ],
      "outputs": [],
      "execution_count": 1,
      "metadata": {}
    },
    {
      "cell_type": "markdown",
      "source": [
        "Step: Load data"
      ],
      "metadata": {
        "nteract": {
          "transient": {
            "deleting": false
          }
        }
      }
    },
    {
      "cell_type": "code",
      "source": [
        "import pandas as pd\n",
        "import os\n",
        "from pyprojroot import here\n",
        "import numpy as np\n",
        "from skimpy import clean_columns\n",
        "from data_cleaning.fun_hot_encode_limit import fun_hot_encode_limit\n",
        "\n",
        "path_data = here(\"./data\")\n",
        "os.chdir(path_data)\n",
        "data_ra = pd.read_csv(\"ra_data.csv\")\n",
        "data_ra = clean_columns(data_ra)\n",
        "\n",
        "data_ra[\"date\"] = pd.to_datetime(data_ra[\"date\"])"
      ],
      "outputs": [
        {
          "output_type": "display_data",
          "data": {
            "text/plain": "\u001b[1;36m11\u001b[0m column names have been cleaned\n",
            "text/html": "<pre style=\"white-space:pre;overflow-x:auto;line-height:normal;font-family:Menlo,'DejaVu Sans Mono',consolas,'Courier New',monospace\"><span style=\"color: #008080; text-decoration-color: #008080; font-weight: bold\">11</span> column names have been cleaned\n</pre>\n"
          },
          "metadata": {}
        }
      ],
      "execution_count": 2,
      "metadata": {
        "jupyter": {
          "source_hidden": false,
          "outputs_hidden": false
        },
        "nteract": {
          "transient": {
            "deleting": false
          }
        },
        "gather": {
          "logged": 1690981743704
        }
      }
    },
    {
      "cell_type": "code",
      "source": [
        "import pandas as pd\n",
        "import numpy as np\n",
        "\n",
        "\n",
        "def missing_data_percentage(df):\n",
        "    df = df.replace([\" \", \"\"], np.nan)  # replace empty strings with NaN\n",
        "    total = df.isnull().sum().sort_values(ascending=False)\n",
        "    percent = (df.isnull().sum() / df.isnull().count()).sort_values(\n",
        "        ascending=False\n",
        "    ) * 100\n",
        "    missing_data = pd.concat([total, percent], axis=1, keys=[\"Total\", \"Percent\"]).round(\n",
        "        2\n",
        "    )\n",
        "    return missing_data\n",
        "\n",
        "\n",
        "missing_data_percentage(df=data_ra)"
      ],
      "outputs": [
        {
          "output_type": "execute_result",
          "execution_count": 3,
          "data": {
            "text/plain": "               Total  Percent\nsex                8     4.32\nage                3     1.62\ncondition          0     0.00\ndate               0     0.00\ndrug               0     0.00\ndrug_id            0     0.00\neaseof_use         0     0.00\neffectiveness      0     0.00\nreviews            0     0.00\nsatisfaction       0     0.00\nsides              0     0.00",
            "text/html": "<div>\n<style scoped>\n    .dataframe tbody tr th:only-of-type {\n        vertical-align: middle;\n    }\n\n    .dataframe tbody tr th {\n        vertical-align: top;\n    }\n\n    .dataframe thead th {\n        text-align: right;\n    }\n</style>\n<table border=\"1\" class=\"dataframe\">\n  <thead>\n    <tr style=\"text-align: right;\">\n      <th></th>\n      <th>Total</th>\n      <th>Percent</th>\n    </tr>\n  </thead>\n  <tbody>\n    <tr>\n      <th>sex</th>\n      <td>8</td>\n      <td>4.32</td>\n    </tr>\n    <tr>\n      <th>age</th>\n      <td>3</td>\n      <td>1.62</td>\n    </tr>\n    <tr>\n      <th>condition</th>\n      <td>0</td>\n      <td>0.00</td>\n    </tr>\n    <tr>\n      <th>date</th>\n      <td>0</td>\n      <td>0.00</td>\n    </tr>\n    <tr>\n      <th>drug</th>\n      <td>0</td>\n      <td>0.00</td>\n    </tr>\n    <tr>\n      <th>drug_id</th>\n      <td>0</td>\n      <td>0.00</td>\n    </tr>\n    <tr>\n      <th>easeof_use</th>\n      <td>0</td>\n      <td>0.00</td>\n    </tr>\n    <tr>\n      <th>effectiveness</th>\n      <td>0</td>\n      <td>0.00</td>\n    </tr>\n    <tr>\n      <th>reviews</th>\n      <td>0</td>\n      <td>0.00</td>\n    </tr>\n    <tr>\n      <th>satisfaction</th>\n      <td>0</td>\n      <td>0.00</td>\n    </tr>\n    <tr>\n      <th>sides</th>\n      <td>0</td>\n      <td>0.00</td>\n    </tr>\n  </tbody>\n</table>\n</div>"
          },
          "metadata": {}
        }
      ],
      "execution_count": 3,
      "metadata": {
        "jupyter": {
          "source_hidden": false,
          "outputs_hidden": false
        },
        "nteract": {
          "transient": {
            "deleting": false
          }
        },
        "gather": {
          "logged": 1690981743843
        }
      }
    },
    {
      "cell_type": "code",
      "source": [
        "data_con = data_ra[[\"easeof_use\", \"effectiveness\", \"satisfaction\"]]\n",
        "\n",
        "data_con.describe().round(2)"
      ],
      "outputs": [
        {
          "output_type": "execute_result",
          "execution_count": 4,
          "data": {
            "text/plain": "       easeof_use  effectiveness  satisfaction\ncount      185.00         185.00        185.00\nmean         3.78           3.75          3.48\nstd          1.24           1.38          1.54\nmin          1.00           1.00          1.00\n25%          3.00           3.00          2.00\n50%          4.00           4.00          4.00\n75%          5.00           5.00          5.00\nmax          5.00           5.00          5.00",
            "text/html": "<div>\n<style scoped>\n    .dataframe tbody tr th:only-of-type {\n        vertical-align: middle;\n    }\n\n    .dataframe tbody tr th {\n        vertical-align: top;\n    }\n\n    .dataframe thead th {\n        text-align: right;\n    }\n</style>\n<table border=\"1\" class=\"dataframe\">\n  <thead>\n    <tr style=\"text-align: right;\">\n      <th></th>\n      <th>easeof_use</th>\n      <th>effectiveness</th>\n      <th>satisfaction</th>\n    </tr>\n  </thead>\n  <tbody>\n    <tr>\n      <th>count</th>\n      <td>185.00</td>\n      <td>185.00</td>\n      <td>185.00</td>\n    </tr>\n    <tr>\n      <th>mean</th>\n      <td>3.78</td>\n      <td>3.75</td>\n      <td>3.48</td>\n    </tr>\n    <tr>\n      <th>std</th>\n      <td>1.24</td>\n      <td>1.38</td>\n      <td>1.54</td>\n    </tr>\n    <tr>\n      <th>min</th>\n      <td>1.00</td>\n      <td>1.00</td>\n      <td>1.00</td>\n    </tr>\n    <tr>\n      <th>25%</th>\n      <td>3.00</td>\n      <td>3.00</td>\n      <td>2.00</td>\n    </tr>\n    <tr>\n      <th>50%</th>\n      <td>4.00</td>\n      <td>4.00</td>\n      <td>4.00</td>\n    </tr>\n    <tr>\n      <th>75%</th>\n      <td>5.00</td>\n      <td>5.00</td>\n      <td>5.00</td>\n    </tr>\n    <tr>\n      <th>max</th>\n      <td>5.00</td>\n      <td>5.00</td>\n      <td>5.00</td>\n    </tr>\n  </tbody>\n</table>\n</div>"
          },
          "metadata": {}
        }
      ],
      "execution_count": 4,
      "metadata": {
        "jupyter": {
          "source_hidden": false,
          "outputs_hidden": false
        },
        "nteract": {
          "transient": {
            "deleting": false
          }
        },
        "gather": {
          "logged": 1690981747092
        }
      }
    },
    {
      "cell_type": "code",
      "source": [
        "data_ra.columns"
      ],
      "outputs": [
        {
          "output_type": "execute_result",
          "execution_count": 4,
          "data": {
            "text/plain": "Index(['age', 'condition', 'date', 'drug', 'drug_id', 'easeof_use',\n       'effectiveness', 'reviews', 'satisfaction', 'sex', 'sides'],\n      dtype='object')"
          },
          "metadata": {}
        }
      ],
      "execution_count": 4,
      "metadata": {
        "jupyter": {
          "source_hidden": false,
          "outputs_hidden": false
        },
        "nteract": {
          "transient": {
            "deleting": false
          }
        },
        "gather": {
          "logged": 1690928301948
        }
      }
    },
    {
      "cell_type": "code",
      "source": [
        "cat_vars = [\"drug\", \"sex\", \"age\"]\n",
        "for x in range(len(cat_vars)):\n",
        "    print(data_ra[cat_vars[x]].value_counts())\n",
        "    print(data_ra[cat_vars[x]].value_counts(normalize=True).round(2))"
      ],
      "outputs": [
        {
          "output_type": "stream",
          "name": "stdout",
          "text": "humira syringe kit         114\nhumira pen injector kit     71\nName: drug, dtype: int64\nhumira syringe kit         0.62\nhumira pen injector kit    0.38\nName: drug, dtype: float64\nFemale    141\nMale       36\n            8\nName: sex, dtype: int64\nFemale    0.76\nMale      0.19\n          0.04\nName: sex, dtype: float64\n45-54         59\n55-64         42\n35-44         31\n65-74         20\n25-34         20\n19-24          4\n75 or over     4\n               3\n13-18          2\nName: age, dtype: int64\n45-54         0.32\n55-64         0.23\n35-44         0.17\n65-74         0.11\n25-34         0.11\n19-24         0.02\n75 or over    0.02\n              0.02\n13-18         0.01\nName: age, dtype: float64\n"
        }
      ],
      "execution_count": 5,
      "metadata": {
        "jupyter": {
          "source_hidden": false,
          "outputs_hidden": false
        },
        "nteract": {
          "transient": {
            "deleting": false
          }
        },
        "gather": {
          "logged": 1690981757749
        }
      }
    },
    {
      "cell_type": "code",
      "source": [
        "data_ra.drop_duplicates(subset=\"sides\")"
      ],
      "outputs": [
        {
          "output_type": "execute_result",
          "execution_count": 7,
          "data": {
            "text/plain": "     age             condition       date                drug  drug_id  \\\n0  45-54  Rheumatoid Arthritis 2019-05-24  humira syringe kit    64713   \n8  45-54  Rheumatoid Arthritis 2016-04-01  humira syringe kit    64713   \n\n   easeof_use  effectiveness  \\\n0           1              1   \n8           5              5   \n\n                                             reviews  satisfaction     sex  \\\n0  caused heavy legs,frequent urination, diarrea,...             1           \n8  I can move!  no more ice picks in my shoulders...             5  Female   \n\n                                               sides  \n0  Redness,  itching , pain, or swelling at the i...  \n8                                                  `  ",
            "text/html": "<div>\n<style scoped>\n    .dataframe tbody tr th:only-of-type {\n        vertical-align: middle;\n    }\n\n    .dataframe tbody tr th {\n        vertical-align: top;\n    }\n\n    .dataframe thead th {\n        text-align: right;\n    }\n</style>\n<table border=\"1\" class=\"dataframe\">\n  <thead>\n    <tr style=\"text-align: right;\">\n      <th></th>\n      <th>age</th>\n      <th>condition</th>\n      <th>date</th>\n      <th>drug</th>\n      <th>drug_id</th>\n      <th>easeof_use</th>\n      <th>effectiveness</th>\n      <th>reviews</th>\n      <th>satisfaction</th>\n      <th>sex</th>\n      <th>sides</th>\n    </tr>\n  </thead>\n  <tbody>\n    <tr>\n      <th>0</th>\n      <td>45-54</td>\n      <td>Rheumatoid Arthritis</td>\n      <td>2019-05-24</td>\n      <td>humira syringe kit</td>\n      <td>64713</td>\n      <td>1</td>\n      <td>1</td>\n      <td>caused heavy legs,frequent urination, diarrea,...</td>\n      <td>1</td>\n      <td></td>\n      <td>Redness,  itching , pain, or swelling at the i...</td>\n    </tr>\n    <tr>\n      <th>8</th>\n      <td>45-54</td>\n      <td>Rheumatoid Arthritis</td>\n      <td>2016-04-01</td>\n      <td>humira syringe kit</td>\n      <td>64713</td>\n      <td>5</td>\n      <td>5</td>\n      <td>I can move!  no more ice picks in my shoulders...</td>\n      <td>5</td>\n      <td>Female</td>\n      <td>`</td>\n    </tr>\n  </tbody>\n</table>\n</div>"
          },
          "metadata": {}
        }
      ],
      "execution_count": 7,
      "metadata": {
        "jupyter": {
          "source_hidden": false,
          "outputs_hidden": false
        },
        "nteract": {
          "transient": {
            "deleting": false
          }
        },
        "gather": {
          "logged": 1690982378325
        }
      }
    }
  ],
  "metadata": {
    "kernelspec": {
      "name": "python38-azureml",
      "language": "python",
      "display_name": "Python 3.8 - AzureML"
    },
    "language_info": {
      "name": "python",
      "version": "3.8.5",
      "mimetype": "text/x-python",
      "codemirror_mode": {
        "name": "ipython",
        "version": 3
      },
      "pygments_lexer": "ipython3",
      "nbconvert_exporter": "python",
      "file_extension": ".py"
    },
    "microsoft": {
      "ms_spell_check": {
        "ms_spell_check_language": "en"
      },
      "host": {
        "AzureML": {
          "notebookHasBeenCompleted": true
        }
      }
    },
    "kernel_info": {
      "name": "python38-azureml"
    },
    "nteract": {
      "version": "nteract-front-end@1.0.0"
    }
  },
  "nbformat": 4,
  "nbformat_minor": 2
}