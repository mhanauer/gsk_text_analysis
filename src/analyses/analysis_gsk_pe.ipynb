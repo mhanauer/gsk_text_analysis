{
  "cells": [
    {
      "cell_type": "code",
      "source": [
        "%load_ext lab_black"
      ],
      "outputs": [],
      "execution_count": 1,
      "metadata": {}
    },
    {
      "cell_type": "markdown",
      "source": [
        "Step: Load data"
      ],
      "metadata": {
        "nteract": {
          "transient": {
            "deleting": false
          }
        }
      }
    },
    {
      "cell_type": "code",
      "source": [
        "import pandas as pd\n",
        "import os\n",
        "import numpy as np\n",
        "import nltk\n",
        "from pyprojroot import here\n",
        "\n",
        "from skimpy import clean_columns\n",
        "from data_cleaning.fun_hot_encode_limit import fun_hot_encode_limit\n",
        "\n",
        "path_data = here(\"./data\")\n",
        "os.chdir(path_data)\n",
        "data_ra = pd.read_csv(\"data_ra_sentiment.csv\")\n"
      ],
      "outputs": [],
      "execution_count": 1,
      "metadata": {
        "jupyter": {
          "source_hidden": false,
          "outputs_hidden": false
        },
        "nteract": {
          "transient": {
            "deleting": false
          }
        },
        "gather": {
          "logged": 1690994202064
        }
      }
    },
    {
      "cell_type": "code",
      "source": [
        "import spacy\n",
        "\n",
        "# Load the spaCy model\n",
        "nlp = spacy.load('en_core_web_sm')\n",
        "\n",
        "# Define keywords that are common in patient advocacy groups\n",
        "keywords = ['patient', 'advocacy', 'health', 'care', 'support', 'association', 'society', 'foundation']\n",
        "\n",
        "# Function to extract organizations from text\n",
        "def extract_organizations(text):\n",
        "    doc = nlp(text)\n",
        "    organizations = [ent.text for ent in doc.ents if ent.label_ == 'ORG']\n",
        "    return organizations\n",
        "\n",
        "# Function to check if an organization is a patient advocacy group\n",
        "def is_patient_advocacy_group(name):\n",
        "    return any(keyword in name.lower() for keyword in keywords)\n",
        "\n",
        "# Extract organizations from reviews and flatten the list\n",
        "organizations = [org for sublist in data_ra['reviews'].apply(extract_organizations) for org in sublist]\n",
        "\n",
        "# Filter organizations to find patient advocacy groups\n",
        "patient_advocacy_groups = [org for org in organizations if is_patient_advocacy_group(org)]\n",
        "\n",
        "print(patient_advocacy_groups)\n"
      ],
      "outputs": [
        {
          "output_type": "stream",
          "name": "stdout",
          "text": "[]\n"
        }
      ],
      "execution_count": 5,
      "metadata": {
        "jupyter": {
          "source_hidden": false,
          "outputs_hidden": false
        },
        "nteract": {
          "transient": {
            "deleting": false
          }
        },
        "gather": {
          "logged": 1690994553606
        }
      }
    },
    {
      "cell_type": "code",
      "source": [
        "organizations"
      ],
      "outputs": [
        {
          "output_type": "execute_result",
          "execution_count": 7,
          "data": {
            "text/plain": "['RA',\n 'doc',\n 'RA',\n 'prune & cranberry juice',\n 'Apple',\n 'RA',\n 'RA',\n 'doc',\n 'RA',\n 'RA',\n 'Humira',\n 'Humira',\n 'RA',\n 'Humira',\n 'Humira',\n 'Humira',\n 'Humira',\n 'RA',\n 'Ulcerative Colitis',\n 'Methotrexate',\n 'RA',\n 'Humira',\n 'RA',\n 'Humira',\n 'RA',\n 'Humira',\n 'RA',\n 'RA',\n 'Humira',\n 'Next',\n 'Rheumy',\n 'RA',\n 'PMD',\n 'a + RF',\n 'Humira',\n 'methotrexate',\n 'mos',\n 'Humira',\n 'Humira',\n 'Methrotrexate',\n 'RA',\n 'Osteo',\n 'Arava',\n 'Friends',\n 'RA',\n 'Humira',\n 'Humira',\n 'Humira',\n 'Humira',\n 'R.A.which',\n 'Arava',\n 'RA',\n 'RA',\n 'Methotrexate',\n 'Methotrexate',\n 'Placquinil',\n 'Humira',\n 'RA',\n 'Embril',\n 'Abbott Laboratories',\n 'RA',\n 'RA',\n 'Methotrexate',\n 'RA',\n 'RA',\n 'Cortisone',\n 'Humira',\n 'Fatigue',\n 'Humira',\n 'Humira',\n 'Humira',\n 'Recommend',\n 'RA',\n 'Methotrexate',\n 'histoplasmosis)side',\n 'RESULTS',\n 'MIRACLE',\n 'Humira',\n 'Humira',\n 'RA',\n 'Humira',\n 'methotrexate',\n 'Doc',\n 'Humira',\n 'Humira',\n 'MAJOR',\n 'RA',\n 'RA',\n 'Humira',\n 'RA',\n 'Humira',\n 'RA',\n 'Pen Jab',\n 'EXCEPT',\n 'INJECTIONS',\n 'RA',\n 'ASA',\n 'NSAID',\n 'RA',\n 'ACCEPT',\n 'ADJUST & OVERCOME',\n 'RA',\n 'Humira',\n 'Ankylosing Spondylitis',\n 'Pretty',\n 'Pink Eye',\n 'methotrexate(2yrs',\n 'GI',\n 'RA',\n 'RA',\n 'Humira',\n 'RA',\n 'methotrexate',\n 'RA',\n 'RA',\n 'RA',\n 'Humira',\n 'Humira',\n 'Humira',\n 'Methotrexate',\n 'RA',\n 'RA',\n 'RA',\n 'RA',\n 'Prescribed Vistril',\n 'Oxygen',\n 'Oxygen',\n 'Oxygen',\n 'Cortisol',\n 'Arava',\n 'MD',\n 'RA',\n 'Hummira',\n 'FDA',\n 'RA',\n 'Humira',\n 'Humira',\n 'RA',\n 'Methotrexate',\n 'RA',\n 'RA',\n 'Humira',\n 'RA',\n 'humeria',\n 'RA',\n 'Humira',\n 'RA',\n 'Enbrel',\n 'RA',\n 'Humira',\n 'CRP',\n 'RA',\n 'Celebrex',\n 'Prilosec',\n 'Celebrex',\n 'RAISED',\n 'CRP',\n 'RA',\n 'Enbrel',\n 'Humira',\n 'Enbrel',\n 'Humira',\n 'Celebrex',\n 'RA',\n 'RA',\n 'Methotrexate',\n 'Humira DID NOT',\n 'RA',\n 'GI',\n 'Endoscopy',\n 'Methotrexate',\n 'RA',\n 'Fatigue',\n 'RA',\n 'MTX',\n 'Plaquenil',\n 'Humira',\n 'RA',\n 'Humira',\n 'Humira',\n 'HUMIRA',\n 'FLARE',\n 'Humira',\n 'RA',\n 'Humira',\n 'HUMIRA',\n 'RA']"
          },
          "metadata": {}
        }
      ],
      "execution_count": 7,
      "metadata": {
        "jupyter": {
          "source_hidden": false,
          "outputs_hidden": false
        },
        "nteract": {
          "transient": {
            "deleting": false
          }
        },
        "gather": {
          "logged": 1690994568243
        }
      }
    }
  ],
  "metadata": {
    "kernelspec": {
      "name": "python38-azureml",
      "language": "python",
      "display_name": "Python 3.8 - AzureML"
    },
    "language_info": {
      "name": "python",
      "version": "3.8.5",
      "mimetype": "text/x-python",
      "codemirror_mode": {
        "name": "ipython",
        "version": 3
      },
      "pygments_lexer": "ipython3",
      "nbconvert_exporter": "python",
      "file_extension": ".py"
    },
    "microsoft": {
      "ms_spell_check": {
        "ms_spell_check_language": "en"
      },
      "host": {
        "AzureML": {
          "notebookHasBeenCompleted": true
        }
      }
    },
    "kernel_info": {
      "name": "python38-azureml"
    },
    "nteract": {
      "version": "nteract-front-end@1.0.0"
    }
  },
  "nbformat": 4,
  "nbformat_minor": 2
}